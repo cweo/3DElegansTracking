{
 "cells": [
  {
   "cell_type": "code",
   "execution_count": 27,
   "metadata": {},
   "outputs": [],
   "source": [
    "import matplotlib.pyplot as plt\n",
    "import os\n",
    "import glob\n",
    "import numpy as np\n",
    "from skimage.transform import resize\n",
    "from skimage.io import imsave\n",
    "from skimage.io import imread\n",
    "import numpy as np"
   ]
  },
  {
   "cell_type": "code",
   "execution_count": 28,
   "metadata": {},
   "outputs": [],
   "source": [
    "from keras.models import Model\n",
    "from keras.layers import Input, concatenate, Conv3D, MaxPooling3D, Conv3DTranspose, AveragePooling3D, ZeroPadding3D\n",
    "from keras.optimizers import RMSprop, Adam, SGD\n",
    "from keras.callbacks import ModelCheckpoint, CSVLogger\n",
    "from keras import backend as K\n",
    "from keras.regularizers import l2\n",
    "from keras.utils import plot_model"
   ]
  },
  {
   "cell_type": "code",
   "execution_count": 29,
   "metadata": {},
   "outputs": [],
   "source": [
    "def deform(array, factor, axis):\n",
    "    stretched = np.repeat(array, np.ceil(factor), axis=axis)\n",
    "    indices = np.linspace(0, stretched.shape[axis] - 1, int(array.shape[axis] * factor))\n",
    "    indices = np.rint(indices).astype(int)\n",
    "    return np.take(stretched, indices, axis=axis)"
   ]
  },
  {
   "cell_type": "code",
   "execution_count": 30,
   "metadata": {},
   "outputs": [],
   "source": [
    "data_path = './'\n",
    "project_name = '3D-Unet'\n",
    "img_depth = 32\n",
    "img_rows = 64\n",
    "img_cols = 64\n",
    "smooth = 1."
   ]
  },
  {
   "cell_type": "code",
   "execution_count": 31,
   "metadata": {},
   "outputs": [],
   "source": [
    "K.set_image_data_format('channels_last')"
   ]
  },
  {
   "cell_type": "code",
   "execution_count": 32,
   "metadata": {},
   "outputs": [],
   "source": [
    "def dice_coef(y_true, y_pred):\n",
    "    y_true_f = K.flatten(y_true)\n",
    "    y_pred_f = K.flatten(y_pred)\n",
    "    intersection = K.sum(y_true_f * y_pred_f)\n",
    "    return (2. * intersection + smooth) / (K.sum(y_true_f) + K.sum(y_pred_f) + smooth)\n",
    "\n",
    "\n",
    "def dice_coef_loss(y_true, y_pred):\n",
    "    return -dice_coef(y_true, y_pred)\n",
    "\n",
    "\n",
    "def get_unet():\n",
    "    inputs = Input((img_depth, img_rows, img_cols, 1))\n",
    "    conv1 = Conv3D(32, (3, 3, 3), activation='relu', padding='same')(inputs)\n",
    "    conv1 = Conv3D(32, (3, 3, 3), activation='relu', padding='same')(conv1)\n",
    "    pool1 = MaxPooling3D(pool_size=(2, 2, 2))(conv1)\n",
    "\n",
    "    conv2 = Conv3D(64, (3, 3, 3), activation='relu', padding='same')(pool1)\n",
    "    conv2 = Conv3D(64, (3, 3, 3), activation='relu', padding='same')(conv2)\n",
    "    pool2 = MaxPooling3D(pool_size=(2, 2, 2))(conv2)\n",
    "\n",
    "    conv3 = Conv3D(128, (3, 3, 3), activation='relu', padding='same')(pool2)\n",
    "    conv3 = Conv3D(128, (3, 3, 3), activation='relu', padding='same')(conv3)\n",
    "    pool3 = MaxPooling3D(pool_size=(2, 2, 2))(conv3)\n",
    "\n",
    "    conv4 = Conv3D(256, (3, 3, 3), activation='relu', padding='same')(pool3)\n",
    "    conv4 = Conv3D(256, (3, 3, 3), activation='relu', padding='same')(conv4)\n",
    "    pool4 = MaxPooling3D(pool_size=(2, 2, 2))(conv4)\n",
    "\n",
    "    conv5 = Conv3D(512, (3, 3, 3), activation='relu', padding='same')(pool4)\n",
    "    conv5 = Conv3D(512, (3, 3, 3), activation='relu', padding='same')(conv5)\n",
    "\n",
    "    up6 = concatenate([Conv3DTranspose(256, (2, 2, 2), strides=(2, 2, 2), padding='same')(conv5), conv4], axis=4)\n",
    "    conv6 = Conv3D(256, (3, 3, 3), activation='relu', padding='same')(up6)\n",
    "    conv6 = Conv3D(256, (3, 3, 3), activation='relu', padding='same')(conv6)\n",
    "\n",
    "    up7 = concatenate([Conv3DTranspose(128, (2, 2, 2), strides=(2, 2, 2), padding='same')(conv6), conv3], axis=4)\n",
    "    conv7 = Conv3D(128, (3, 3, 3), activation='relu', padding='same')(up7)\n",
    "    conv7 = Conv3D(128, (3, 3, 3), activation='relu', padding='same')(conv7)\n",
    "\n",
    "    up8 = concatenate([Conv3DTranspose(64, (2, 2, 2), strides=(2, 2, 2), padding='same')(conv7), conv2], axis=4)\n",
    "    conv8 = Conv3D(64, (3, 3, 3), activation='relu', padding='same')(up8)\n",
    "    conv8 = Conv3D(64, (3, 3, 3), activation='relu', padding='same')(conv8)\n",
    "\n",
    "    up9 = concatenate([Conv3DTranspose(32, (2, 2, 2), strides=(2, 2, 2), padding='same')(conv8), conv1], axis=4)\n",
    "    conv9 = Conv3D(32, (3, 3, 3), activation='relu', padding='same')(up9)\n",
    "    conv9 = Conv3D(32, (3, 3, 3), activation='relu', padding='same')(conv9)\n",
    "\n",
    "    conv10 = Conv3D(1, (1, 1, 1), activation='sigmoid')(conv9)\n",
    "\n",
    "\n",
    "    model = Model(inputs=[inputs], outputs=[conv10])\n",
    "\n",
    "    model.summary()\n",
    "    #plot_model(model, to_file='model.png')\n",
    "\n",
    "    model.compile(optimizer=Adam(lr=1e-5, beta_1=0.9, beta_2=0.999, epsilon=1e-08, decay=0.000000199), loss='binary_crossentropy', metrics=['accuracy'])\n",
    "\n",
    "    return model"
   ]
  },
  {
   "cell_type": "code",
   "execution_count": 36,
   "metadata": {},
   "outputs": [],
   "source": [
    "def train():\n",
    "    print('-'*30)\n",
    "    print('Loading and preprocessing train data...')\n",
    "    print('-'*30)\n",
    "    \n",
    "    a = np.load('20190708_SJR5.2_w3_s2_color1.npz')['arr_0'][0]\n",
    "    b = np.load('20190708_SJR5.2_w3_s2_ground_truth.npz')['arr_0'][0]\n",
    "    \n",
    "    a = np.transpose(a)\n",
    "    b = np.transpose(b)\n",
    "    \n",
    "    a = deform(a, img_depth/a.shape[0], axis=0)\n",
    "    a = deform(a, img_rows/a.shape[1], axis=1)\n",
    "    a = deform(a, img_cols/a.shape[2], axis=2)\n",
    "    \n",
    "    b = deform(b, img_depth/b.shape[0], axis=0)\n",
    "    b = deform(b, img_rows/b.shape[1], axis=1)\n",
    "    b = deform(b, img_cols/b.shape[2], axis=2)\n",
    "\n",
    "    A = np.array([a,a,a,a])\n",
    "    B = np.array([b,b,b,b])\n",
    "    \n",
    "    imgs_train = np.expand_dims(A, axis=4)\n",
    "    imgs_mask_train = np.expand_dims(B, axis=4)\n",
    "    \n",
    "    imgs_mask_train = imgs_mask_train.astype('float32')\n",
    "    imgs_train = imgs_train.astype('float32')\n",
    "\n",
    "    print('-'*30)\n",
    "    print('Creating and compiling model...')\n",
    "    print('-'*30)\n",
    "    model = get_unet()\n",
    "    weight_dir = 'weights'\n",
    "    if not os.path.exists(weight_dir):\n",
    "        os.mkdir(weight_dir)\n",
    "    model_checkpoint = ModelCheckpoint(os.path.join(weight_dir, project_name + '.h5'), monitor='val_loss', save_best_only=True)\n",
    "\n",
    "    log_dir = 'logs'\n",
    "    if not os.path.exists(log_dir):\n",
    "        os.mkdir(log_dir)\n",
    "    csv_logger = CSVLogger(os.path.join(log_dir,  project_name + '.txt'), separator=',', append=False)\n",
    "\n",
    "    print('-'*30)\n",
    "    print('Fitting model...')\n",
    "    print('-'*30)\n",
    "\n",
    "    model.fit(imgs_train, imgs_mask_train, batch_size=1, epochs=50, verbose=1, shuffle=True, validation_split=0.10, callbacks=[model_checkpoint, csv_logger])\n",
    "\n",
    "    print('-'*30)\n",
    "    print('Training finished')\n",
    "    print('-'*30)"
   ]
  },
  {
   "cell_type": "code",
   "execution_count": 39,
   "metadata": {},
   "outputs": [],
   "source": [
    "def predict():\n",
    "\n",
    "\n",
    "\n",
    "    print('-'*30)\n",
    "    print('Loading and preprocessing test data...')\n",
    "    print('-'*30)\n",
    "    \n",
    "\n",
    "    a = np.load('20190708_SJR5.2_w3_s2_color1.npz')['arr_0'][0]\n",
    "    a = np.transpose(a)\n",
    "    a = np.resize(a, (32,64,64))\n",
    "    A = np.array([a,a,a,a])\n",
    "    imgs_train = np.expand_dims(A, axis=4)\n",
    "    imgs_test = imgs_train.astype('float32')\n",
    "    \n",
    "\n",
    "    print('-'*30)\n",
    "    print('Loading saved weights...')\n",
    "    print('-'*30)\n",
    "\n",
    "    model = get_unet()\n",
    "    weight_dir = 'weights'\n",
    "    if not os.path.exists(weight_dir):\n",
    "        os.mkdir(weight_dir)\n",
    "    model.load_weights(os.path.join(weight_dir, project_name + '.h5'))\n",
    "\n",
    "    print('-'*30)\n",
    "    print('Predicting masks on test data...')\n",
    "    print('-'*30)\n",
    "\n",
    "    imgs_mask_test = model.predict(imgs_test, batch_size=1, verbose=1)\n",
    "\n",
    "    npy_mask_dir = 'test_mask_npy'\n",
    "    if not os.path.exists(npy_mask_dir):\n",
    "        os.mkdir(npy_mask_dir)\n",
    "\n",
    "    np.save(os.path.join(npy_mask_dir, project_name + '_mask.npy'), imgs_mask_test)\n",
    "\n",
    "    print('-' * 30)\n",
    "    print('Saving predicted masks to files...')\n",
    "    print('-' * 30)\n",
    "\n",
    "    print('-'*30)\n",
    "    print('Prediction finished')\n",
    "    print('-'*30)"
   ]
  },
  {
   "cell_type": "code",
   "execution_count": 38,
   "metadata": {
    "scrolled": false
   },
   "outputs": [
    {
     "name": "stdout",
     "output_type": "stream",
     "text": [
      "------------------------------\n",
      "Loading and preprocessing train data...\n",
      "------------------------------\n",
      "------------------------------\n",
      "Creating and compiling model...\n",
      "------------------------------\n",
      "Model: \"model_2\"\n",
      "__________________________________________________________________________________________________\n",
      "Layer (type)                    Output Shape         Param #     Connected to                     \n",
      "==================================================================================================\n",
      "input_2 (InputLayer)            (None, 32, 64, 64, 1 0                                            \n",
      "__________________________________________________________________________________________________\n",
      "conv3d_20 (Conv3D)              (None, 32, 64, 64, 3 896         input_2[0][0]                    \n",
      "__________________________________________________________________________________________________\n",
      "conv3d_21 (Conv3D)              (None, 32, 64, 64, 3 27680       conv3d_20[0][0]                  \n",
      "__________________________________________________________________________________________________\n",
      "max_pooling3d_5 (MaxPooling3D)  (None, 16, 32, 32, 3 0           conv3d_21[0][0]                  \n",
      "__________________________________________________________________________________________________\n",
      "conv3d_22 (Conv3D)              (None, 16, 32, 32, 6 55360       max_pooling3d_5[0][0]            \n",
      "__________________________________________________________________________________________________\n",
      "conv3d_23 (Conv3D)              (None, 16, 32, 32, 6 110656      conv3d_22[0][0]                  \n",
      "__________________________________________________________________________________________________\n",
      "max_pooling3d_6 (MaxPooling3D)  (None, 8, 16, 16, 64 0           conv3d_23[0][0]                  \n",
      "__________________________________________________________________________________________________\n",
      "conv3d_24 (Conv3D)              (None, 8, 16, 16, 12 221312      max_pooling3d_6[0][0]            \n",
      "__________________________________________________________________________________________________\n",
      "conv3d_25 (Conv3D)              (None, 8, 16, 16, 12 442496      conv3d_24[0][0]                  \n",
      "__________________________________________________________________________________________________\n",
      "max_pooling3d_7 (MaxPooling3D)  (None, 4, 8, 8, 128) 0           conv3d_25[0][0]                  \n",
      "__________________________________________________________________________________________________\n",
      "conv3d_26 (Conv3D)              (None, 4, 8, 8, 256) 884992      max_pooling3d_7[0][0]            \n",
      "__________________________________________________________________________________________________\n",
      "conv3d_27 (Conv3D)              (None, 4, 8, 8, 256) 1769728     conv3d_26[0][0]                  \n",
      "__________________________________________________________________________________________________\n",
      "max_pooling3d_8 (MaxPooling3D)  (None, 2, 4, 4, 256) 0           conv3d_27[0][0]                  \n",
      "__________________________________________________________________________________________________\n",
      "conv3d_28 (Conv3D)              (None, 2, 4, 4, 512) 3539456     max_pooling3d_8[0][0]            \n",
      "__________________________________________________________________________________________________\n",
      "conv3d_29 (Conv3D)              (None, 2, 4, 4, 512) 7078400     conv3d_28[0][0]                  \n",
      "__________________________________________________________________________________________________\n",
      "conv3d_transpose_5 (Conv3DTrans (None, 4, 8, 8, 256) 1048832     conv3d_29[0][0]                  \n",
      "__________________________________________________________________________________________________\n",
      "concatenate_5 (Concatenate)     (None, 4, 8, 8, 512) 0           conv3d_transpose_5[0][0]         \n",
      "                                                                 conv3d_27[0][0]                  \n",
      "__________________________________________________________________________________________________\n",
      "conv3d_30 (Conv3D)              (None, 4, 8, 8, 256) 3539200     concatenate_5[0][0]              \n",
      "__________________________________________________________________________________________________\n",
      "conv3d_31 (Conv3D)              (None, 4, 8, 8, 256) 1769728     conv3d_30[0][0]                  \n",
      "__________________________________________________________________________________________________\n",
      "conv3d_transpose_6 (Conv3DTrans (None, 8, 16, 16, 12 262272      conv3d_31[0][0]                  \n",
      "__________________________________________________________________________________________________\n",
      "concatenate_6 (Concatenate)     (None, 8, 16, 16, 25 0           conv3d_transpose_6[0][0]         \n",
      "                                                                 conv3d_25[0][0]                  \n",
      "__________________________________________________________________________________________________\n",
      "conv3d_32 (Conv3D)              (None, 8, 16, 16, 12 884864      concatenate_6[0][0]              \n",
      "__________________________________________________________________________________________________\n",
      "conv3d_33 (Conv3D)              (None, 8, 16, 16, 12 442496      conv3d_32[0][0]                  \n",
      "__________________________________________________________________________________________________\n",
      "conv3d_transpose_7 (Conv3DTrans (None, 16, 32, 32, 6 65600       conv3d_33[0][0]                  \n",
      "__________________________________________________________________________________________________\n",
      "concatenate_7 (Concatenate)     (None, 16, 32, 32, 1 0           conv3d_transpose_7[0][0]         \n",
      "                                                                 conv3d_23[0][0]                  \n",
      "__________________________________________________________________________________________________\n",
      "conv3d_34 (Conv3D)              (None, 16, 32, 32, 6 221248      concatenate_7[0][0]              \n",
      "__________________________________________________________________________________________________\n",
      "conv3d_35 (Conv3D)              (None, 16, 32, 32, 6 110656      conv3d_34[0][0]                  \n",
      "__________________________________________________________________________________________________\n",
      "conv3d_transpose_8 (Conv3DTrans (None, 32, 64, 64, 3 16416       conv3d_35[0][0]                  \n",
      "__________________________________________________________________________________________________\n",
      "concatenate_8 (Concatenate)     (None, 32, 64, 64, 6 0           conv3d_transpose_8[0][0]         \n",
      "                                                                 conv3d_21[0][0]                  \n",
      "__________________________________________________________________________________________________\n",
      "conv3d_36 (Conv3D)              (None, 32, 64, 64, 3 55328       concatenate_8[0][0]              \n",
      "__________________________________________________________________________________________________\n",
      "conv3d_37 (Conv3D)              (None, 32, 64, 64, 3 27680       conv3d_36[0][0]                  \n",
      "__________________________________________________________________________________________________\n",
      "conv3d_38 (Conv3D)              (None, 32, 64, 64, 1 33          conv3d_37[0][0]                  \n",
      "==================================================================================================\n",
      "Total params: 22,575,329\n",
      "Trainable params: 22,575,329\n",
      "Non-trainable params: 0\n",
      "__________________________________________________________________________________________________\n",
      "------------------------------\n",
      "Fitting model...\n",
      "------------------------------\n",
      "Train on 3 samples, validate on 1 samples\n",
      "Epoch 1/50\n",
      "3/3 [==============================] - 10s 3s/step - loss: 0.8544 - accuracy: 0.8315 - val_loss: 0.7151 - val_accuracy: 0.9061\n",
      "Epoch 2/50\n",
      "3/3 [==============================] - 10s 3s/step - loss: 0.6741 - accuracy: 0.9237 - val_loss: 0.6073 - val_accuracy: 0.9499\n",
      "Epoch 3/50\n",
      "3/3 [==============================] - 9s 3s/step - loss: 0.5868 - accuracy: 0.9564 - val_loss: 0.5533 - val_accuracy: 0.9658\n",
      "Epoch 4/50\n",
      "3/3 [==============================] - 10s 3s/step - loss: 0.5416 - accuracy: 0.9685 - val_loss: 0.5208 - val_accuracy: 0.9728\n",
      "Epoch 5/50\n",
      "3/3 [==============================] - 10s 3s/step - loss: 0.5118 - accuracy: 0.9741 - val_loss: 0.4946 - val_accuracy: 0.9764\n"
     ]
    },
    {
     "name": "stdout",
     "output_type": "stream",
     "text": [
      "Epoch 6/50\n",
      "3/3 [==============================] - 10s 3s/step - loss: 0.4862 - accuracy: 0.9771 - val_loss: 0.4695 - val_accuracy: 0.9784\n",
      "Epoch 7/50\n",
      "3/3 [==============================] - 10s 3s/step - loss: 0.4609 - accuracy: 0.9787 - val_loss: 0.4437 - val_accuracy: 0.9792\n",
      "Epoch 8/50\n",
      "3/3 [==============================] - 10s 3s/step - loss: 0.4350 - accuracy: 0.9793 - val_loss: 0.4175 - val_accuracy: 0.9796\n",
      "Epoch 9/50\n",
      "3/3 [==============================] - 10s 3s/step - loss: 0.4088 - accuracy: 0.9796 - val_loss: 0.3915 - val_accuracy: 0.9796\n",
      "Epoch 10/50\n",
      "3/3 [==============================] - 9s 3s/step - loss: 0.3830 - accuracy: 0.9794 - val_loss: 0.3663 - val_accuracy: 0.9790\n",
      "Epoch 11/50\n",
      "3/3 [==============================] - 9s 3s/step - loss: 0.3583 - accuracy: 0.9787 - val_loss: 0.3427 - val_accuracy: 0.9780\n",
      "Epoch 12/50\n",
      "3/3 [==============================] - 9s 3s/step - loss: 0.3353 - accuracy: 0.9778 - val_loss: 0.3209 - val_accuracy: 0.9773\n",
      "Epoch 13/50\n",
      "3/3 [==============================] - 8s 3s/step - loss: 0.3141 - accuracy: 0.9770 - val_loss: 0.3007 - val_accuracy: 0.9765\n",
      "Epoch 14/50\n",
      "3/3 [==============================] - 9s 3s/step - loss: 0.2944 - accuracy: 0.9763 - val_loss: 0.2819 - val_accuracy: 0.9760\n",
      "Epoch 15/50\n",
      "3/3 [==============================] - 9s 3s/step - loss: 0.2759 - accuracy: 0.9760 - val_loss: 0.2641 - val_accuracy: 0.9762\n",
      "Epoch 16/50\n",
      "3/3 [==============================] - 8s 3s/step - loss: 0.2584 - accuracy: 0.9763 - val_loss: 0.2470 - val_accuracy: 0.9765\n",
      "Epoch 17/50\n",
      "3/3 [==============================] - 8s 3s/step - loss: 0.2414 - accuracy: 0.9768 - val_loss: 0.2303 - val_accuracy: 0.9774\n",
      "Epoch 18/50\n",
      "3/3 [==============================] - 8s 3s/step - loss: 0.2249 - accuracy: 0.9779 - val_loss: 0.2142 - val_accuracy: 0.9789\n",
      "Epoch 19/50\n",
      "3/3 [==============================] - 8s 3s/step - loss: 0.2090 - accuracy: 0.9794 - val_loss: 0.1987 - val_accuracy: 0.9804\n",
      "Epoch 20/50\n",
      "3/3 [==============================] - 8s 3s/step - loss: 0.1938 - accuracy: 0.9809 - val_loss: 0.1840 - val_accuracy: 0.9822\n",
      "Epoch 21/50\n",
      "3/3 [==============================] - 8s 3s/step - loss: 0.1793 - accuracy: 0.9826 - val_loss: 0.1699 - val_accuracy: 0.9838\n",
      "Epoch 22/50\n",
      "3/3 [==============================] - 8s 3s/step - loss: 0.1653 - accuracy: 0.9841 - val_loss: 0.1561 - val_accuracy: 0.9850\n",
      "Epoch 23/50\n",
      "3/3 [==============================] - 8s 3s/step - loss: 0.1514 - accuracy: 0.9855 - val_loss: 0.1422 - val_accuracy: 0.9865\n",
      "Epoch 24/50\n",
      "3/3 [==============================] - 8s 3s/step - loss: 0.1376 - accuracy: 0.9868 - val_loss: 0.1282 - val_accuracy: 0.9876\n",
      "Epoch 25/50\n",
      "3/3 [==============================] - 8s 3s/step - loss: 0.1235 - accuracy: 0.9879 - val_loss: 0.1142 - val_accuracy: 0.9885\n",
      "Epoch 26/50\n",
      "3/3 [==============================] - 8s 3s/step - loss: 0.1096 - accuracy: 0.9890 - val_loss: 0.1005 - val_accuracy: 0.9898\n",
      "Epoch 27/50\n",
      "3/3 [==============================] - 8s 3s/step - loss: 0.0960 - accuracy: 0.9903 - val_loss: 0.0872 - val_accuracy: 0.9911\n",
      "Epoch 28/50\n",
      "3/3 [==============================] - 9s 3s/step - loss: 0.0829 - accuracy: 0.9915 - val_loss: 0.0747 - val_accuracy: 0.9923\n",
      "Epoch 29/50\n",
      "3/3 [==============================] - 9s 3s/step - loss: 0.0707 - accuracy: 0.9926 - val_loss: 0.0629 - val_accuracy: 0.9932\n",
      "Epoch 30/50\n",
      "3/3 [==============================] - 9s 3s/step - loss: 0.0591 - accuracy: 0.9934 - val_loss: 0.0517 - val_accuracy: 0.9940\n",
      "Epoch 31/50\n",
      "3/3 [==============================] - 8s 3s/step - loss: 0.0482 - accuracy: 0.9943 - val_loss: 0.0414 - val_accuracy: 0.9949\n",
      "Epoch 32/50\n",
      "3/3 [==============================] - 9s 3s/step - loss: 0.0382 - accuracy: 0.9952 - val_loss: 0.0323 - val_accuracy: 0.9958\n",
      "Epoch 33/50\n",
      "3/3 [==============================] - 9s 3s/step - loss: 0.0295 - accuracy: 0.9961 - val_loss: 0.0243 - val_accuracy: 0.9967\n",
      "Epoch 34/50\n",
      "3/3 [==============================] - 9s 3s/step - loss: 0.0220 - accuracy: 0.9970 - val_loss: 0.0176 - val_accuracy: 0.9977\n",
      "Epoch 35/50\n",
      "3/3 [==============================] - 8s 3s/step - loss: 0.0156 - accuracy: 0.9979 - val_loss: 0.0119 - val_accuracy: 0.9983\n",
      "Epoch 36/50\n",
      "3/3 [==============================] - 9s 3s/step - loss: 0.0104 - accuracy: 0.9985 - val_loss: 0.0076 - val_accuracy: 0.9989\n",
      "Epoch 37/50\n",
      "3/3 [==============================] - 9s 3s/step - loss: 0.0065 - accuracy: 0.9991 - val_loss: 0.0046 - val_accuracy: 0.9994\n",
      "Epoch 38/50\n",
      "3/3 [==============================] - 9s 3s/step - loss: 0.0039 - accuracy: 0.9995 - val_loss: 0.0027 - val_accuracy: 0.9997\n",
      "Epoch 39/50\n",
      "3/3 [==============================] - 9s 3s/step - loss: 0.0023 - accuracy: 0.9997 - val_loss: 0.0017 - val_accuracy: 0.9998\n",
      "Epoch 40/50\n",
      "3/3 [==============================] - 8s 3s/step - loss: 0.0015 - accuracy: 0.9999 - val_loss: 0.0012 - val_accuracy: 0.9999\n",
      "Epoch 41/50\n",
      "3/3 [==============================] - 8s 3s/step - loss: 0.0011 - accuracy: 0.9999 - val_loss: 8.9564e-04 - val_accuracy: 0.9999\n",
      "Epoch 42/50\n",
      "3/3 [==============================] - 9s 3s/step - loss: 8.1856e-04 - accuracy: 0.9999 - val_loss: 6.8259e-04 - val_accuracy: 0.9999\n",
      "Epoch 43/50\n",
      "3/3 [==============================] - 8s 3s/step - loss: 6.2931e-04 - accuracy: 1.0000 - val_loss: 5.3227e-04 - val_accuracy: 1.0000\n",
      "Epoch 44/50\n",
      "3/3 [==============================] - 8s 3s/step - loss: 4.9299e-04 - accuracy: 1.0000 - val_loss: 4.2320e-04 - val_accuracy: 1.0000\n",
      "Epoch 45/50\n",
      "3/3 [==============================] - 9s 3s/step - loss: 3.9576e-04 - accuracy: 1.0000 - val_loss: 3.4623e-04 - val_accuracy: 1.0000\n",
      "Epoch 46/50\n",
      "3/3 [==============================] - 9s 3s/step - loss: 3.2602e-04 - accuracy: 1.0000 - val_loss: 2.8937e-04 - val_accuracy: 1.0000\n",
      "Epoch 47/50\n",
      "3/3 [==============================] - 9s 3s/step - loss: 2.7422e-04 - accuracy: 1.0000 - val_loss: 2.4637e-04 - val_accuracy: 1.0000\n",
      "Epoch 48/50\n",
      "3/3 [==============================] - 9s 3s/step - loss: 2.3464e-04 - accuracy: 1.0000 - val_loss: 2.1301e-04 - val_accuracy: 1.0000\n",
      "Epoch 49/50\n",
      "3/3 [==============================] - 9s 3s/step - loss: 2.0382e-04 - accuracy: 1.0000 - val_loss: 1.8682e-04 - val_accuracy: 1.0000\n",
      "Epoch 50/50\n",
      "3/3 [==============================] - 9s 3s/step - loss: 1.7956e-04 - accuracy: 1.0000 - val_loss: 1.6610e-04 - val_accuracy: 1.0000\n",
      "------------------------------\n",
      "Training finished\n",
      "------------------------------\n"
     ]
    }
   ],
   "source": [
    "train()"
   ]
  },
  {
   "cell_type": "code",
   "execution_count": 40,
   "metadata": {},
   "outputs": [
    {
     "name": "stdout",
     "output_type": "stream",
     "text": [
      "------------------------------\n",
      "Loading and preprocessing test data...\n",
      "------------------------------\n",
      "------------------------------\n",
      "Loading saved weights...\n",
      "------------------------------\n",
      "Model: \"model_3\"\n",
      "__________________________________________________________________________________________________\n",
      "Layer (type)                    Output Shape         Param #     Connected to                     \n",
      "==================================================================================================\n",
      "input_3 (InputLayer)            (None, 32, 64, 64, 1 0                                            \n",
      "__________________________________________________________________________________________________\n",
      "conv3d_39 (Conv3D)              (None, 32, 64, 64, 3 896         input_3[0][0]                    \n",
      "__________________________________________________________________________________________________\n",
      "conv3d_40 (Conv3D)              (None, 32, 64, 64, 3 27680       conv3d_39[0][0]                  \n",
      "__________________________________________________________________________________________________\n",
      "max_pooling3d_9 (MaxPooling3D)  (None, 16, 32, 32, 3 0           conv3d_40[0][0]                  \n",
      "__________________________________________________________________________________________________\n",
      "conv3d_41 (Conv3D)              (None, 16, 32, 32, 6 55360       max_pooling3d_9[0][0]            \n",
      "__________________________________________________________________________________________________\n",
      "conv3d_42 (Conv3D)              (None, 16, 32, 32, 6 110656      conv3d_41[0][0]                  \n",
      "__________________________________________________________________________________________________\n",
      "max_pooling3d_10 (MaxPooling3D) (None, 8, 16, 16, 64 0           conv3d_42[0][0]                  \n",
      "__________________________________________________________________________________________________\n",
      "conv3d_43 (Conv3D)              (None, 8, 16, 16, 12 221312      max_pooling3d_10[0][0]           \n",
      "__________________________________________________________________________________________________\n",
      "conv3d_44 (Conv3D)              (None, 8, 16, 16, 12 442496      conv3d_43[0][0]                  \n",
      "__________________________________________________________________________________________________\n",
      "max_pooling3d_11 (MaxPooling3D) (None, 4, 8, 8, 128) 0           conv3d_44[0][0]                  \n",
      "__________________________________________________________________________________________________\n",
      "conv3d_45 (Conv3D)              (None, 4, 8, 8, 256) 884992      max_pooling3d_11[0][0]           \n",
      "__________________________________________________________________________________________________\n",
      "conv3d_46 (Conv3D)              (None, 4, 8, 8, 256) 1769728     conv3d_45[0][0]                  \n",
      "__________________________________________________________________________________________________\n",
      "max_pooling3d_12 (MaxPooling3D) (None, 2, 4, 4, 256) 0           conv3d_46[0][0]                  \n",
      "__________________________________________________________________________________________________\n",
      "conv3d_47 (Conv3D)              (None, 2, 4, 4, 512) 3539456     max_pooling3d_12[0][0]           \n",
      "__________________________________________________________________________________________________\n",
      "conv3d_48 (Conv3D)              (None, 2, 4, 4, 512) 7078400     conv3d_47[0][0]                  \n",
      "__________________________________________________________________________________________________\n",
      "conv3d_transpose_9 (Conv3DTrans (None, 4, 8, 8, 256) 1048832     conv3d_48[0][0]                  \n",
      "__________________________________________________________________________________________________\n",
      "concatenate_9 (Concatenate)     (None, 4, 8, 8, 512) 0           conv3d_transpose_9[0][0]         \n",
      "                                                                 conv3d_46[0][0]                  \n",
      "__________________________________________________________________________________________________\n",
      "conv3d_49 (Conv3D)              (None, 4, 8, 8, 256) 3539200     concatenate_9[0][0]              \n",
      "__________________________________________________________________________________________________\n",
      "conv3d_50 (Conv3D)              (None, 4, 8, 8, 256) 1769728     conv3d_49[0][0]                  \n",
      "__________________________________________________________________________________________________\n",
      "conv3d_transpose_10 (Conv3DTran (None, 8, 16, 16, 12 262272      conv3d_50[0][0]                  \n",
      "__________________________________________________________________________________________________\n",
      "concatenate_10 (Concatenate)    (None, 8, 16, 16, 25 0           conv3d_transpose_10[0][0]        \n",
      "                                                                 conv3d_44[0][0]                  \n",
      "__________________________________________________________________________________________________\n",
      "conv3d_51 (Conv3D)              (None, 8, 16, 16, 12 884864      concatenate_10[0][0]             \n",
      "__________________________________________________________________________________________________\n",
      "conv3d_52 (Conv3D)              (None, 8, 16, 16, 12 442496      conv3d_51[0][0]                  \n",
      "__________________________________________________________________________________________________\n",
      "conv3d_transpose_11 (Conv3DTran (None, 16, 32, 32, 6 65600       conv3d_52[0][0]                  \n",
      "__________________________________________________________________________________________________\n",
      "concatenate_11 (Concatenate)    (None, 16, 32, 32, 1 0           conv3d_transpose_11[0][0]        \n",
      "                                                                 conv3d_42[0][0]                  \n",
      "__________________________________________________________________________________________________\n",
      "conv3d_53 (Conv3D)              (None, 16, 32, 32, 6 221248      concatenate_11[0][0]             \n",
      "__________________________________________________________________________________________________\n",
      "conv3d_54 (Conv3D)              (None, 16, 32, 32, 6 110656      conv3d_53[0][0]                  \n",
      "__________________________________________________________________________________________________\n",
      "conv3d_transpose_12 (Conv3DTran (None, 32, 64, 64, 3 16416       conv3d_54[0][0]                  \n",
      "__________________________________________________________________________________________________\n",
      "concatenate_12 (Concatenate)    (None, 32, 64, 64, 6 0           conv3d_transpose_12[0][0]        \n",
      "                                                                 conv3d_40[0][0]                  \n",
      "__________________________________________________________________________________________________\n",
      "conv3d_55 (Conv3D)              (None, 32, 64, 64, 3 55328       concatenate_12[0][0]             \n",
      "__________________________________________________________________________________________________\n",
      "conv3d_56 (Conv3D)              (None, 32, 64, 64, 3 27680       conv3d_55[0][0]                  \n",
      "__________________________________________________________________________________________________\n",
      "conv3d_57 (Conv3D)              (None, 32, 64, 64, 1 33          conv3d_56[0][0]                  \n",
      "==================================================================================================\n",
      "Total params: 22,575,329\n",
      "Trainable params: 22,575,329\n",
      "Non-trainable params: 0\n",
      "__________________________________________________________________________________________________\n",
      "------------------------------\n",
      "Predicting masks on test data...\n",
      "------------------------------\n",
      "4/4 [==============================] - 1s 355ms/step\n",
      "------------------------------\n",
      "Saving predicted masks to files...\n",
      "------------------------------\n",
      "------------------------------\n",
      "Prediction finished\n",
      "------------------------------\n"
     ]
    }
   ],
   "source": [
    "predict()"
   ]
  },
  {
   "cell_type": "code",
   "execution_count": 12,
   "metadata": {},
   "outputs": [],
   "source": [
    "a = np.load('a.npz')['arr_0']\n",
    "    \n",
    "a = np.transpose(a)\n",
    "\n",
    "a = deform(a, img_depth/a.shape[0], axis=0)\n",
    "a = deform(a, img_rows/a.shape[1], axis=1)\n",
    "a = deform(a, img_cols/a.shape[2], axis=2)"
   ]
  },
  {
   "cell_type": "code",
   "execution_count": 13,
   "metadata": {},
   "outputs": [],
   "source": [
    "b = np.load('b.npz')['arr_0']\n",
    "\n",
    "b = np.transpose(b)\n",
    "\n",
    "b = deform(b, img_depth/b.shape[0], axis=0)\n",
    "b = deform(b, img_rows/b.shape[1], axis=1)\n",
    "b = deform(b, img_cols/b.shape[2], axis=2)"
   ]
  },
  {
   "cell_type": "code",
   "execution_count": 14,
   "metadata": {},
   "outputs": [
    {
     "name": "stdout",
     "output_type": "stream",
     "text": [
      "(32, 64, 64) (32, 64, 64)\n"
     ]
    }
   ],
   "source": [
    "print(a.shape, b.shape)"
   ]
  },
  {
   "cell_type": "code",
   "execution_count": 66,
   "metadata": {},
   "outputs": [],
   "source": [
    "c = np.load('test_mask_npy/3D-Unet_mask.npy')"
   ]
  },
  {
   "cell_type": "code",
   "execution_count": 43,
   "metadata": {},
   "outputs": [
    {
     "data": {
      "text/plain": [
       "(32, 64, 64)"
      ]
     },
     "execution_count": 43,
     "metadata": {},
     "output_type": "execute_result"
    }
   ],
   "source": [
    "c = c[2,:,:,:,0]\n",
    "c.shape"
   ]
  },
  {
   "cell_type": "code",
   "execution_count": 44,
   "metadata": {},
   "outputs": [
    {
     "data": {
      "text/plain": [
       "<matplotlib.colorbar.Colorbar at 0x1e6fe928e48>"
      ]
     },
     "execution_count": 44,
     "metadata": {},
     "output_type": "execute_result"
    },
    {
     "data": {
      "image/png": "[encoded data removed]",
      "text/plain": [
       "<Figure size 432x288 with 2 Axes>"
      ]
     },
     "metadata": {
      "needs_background": "light"
     },
     "output_type": "display_data"
    }
   ],
   "source": [
    "# input image\n",
    "plt.imshow(a[15,:,:])\n",
    "plt.colorbar()"
   ]
  },
  {
   "cell_type": "code",
   "execution_count": 45,
   "metadata": {},
   "outputs": [
    {
     "data": {
      "text/plain": [
       "<matplotlib.colorbar.Colorbar at 0x1e6fd65b160>"
      ]
     },
     "execution_count": 45,
     "metadata": {},
     "output_type": "execute_result"
    },
    {
     "data": {
      "image/png": "[encoded data removed]",
      "text/plain": [
       "<Figure size 432x288 with 2 Axes>"
      ]
     },
     "metadata": {
      "needs_background": "light"
     },
     "output_type": "display_data"
    }
   ],
   "source": [
    "# ground truth\n",
    "plt.imshow(b[15,:,:])\n",
    "plt.colorbar()"
   ]
  },
  {
   "cell_type": "code",
   "execution_count": 46,
   "metadata": {},
   "outputs": [
    {
     "data": {
      "text/plain": [
       "<matplotlib.colorbar.Colorbar at 0x1e6ff285eb8>"
      ]
     },
     "execution_count": 46,
     "metadata": {},
     "output_type": "execute_result"
    },
    {
     "data": {
      "image/png": "[encoded data removed]",
      "text/plain": [
       "<Figure size 432x288 with 2 Axes>"
      ]
     },
     "metadata": {
      "needs_background": "light"
     },
     "output_type": "display_data"
    }
   ],
   "source": [
    "# output mask\n",
    "plt.imshow(c[15,:,:])\n",
    "plt.colorbar()"
   ]
  },
  {
   "cell_type": "code",
   "execution_count": null,
   "metadata": {},
   "outputs": [],
   "source": [
    "# wtf ?"
   ]
  },
  {
   "cell_type": "code",
   "execution_count": 65,
   "metadata": {},
   "outputs": [
    {
     "data": {
      "text/plain": [
       "(286, 312, 512, 35)"
      ]
     },
     "execution_count": 65,
     "metadata": {},
     "output_type": "execute_result"
    }
   ],
   "source": [
    "os.chdir('..')\n",
    "a = np.load('20190708_SJR5.2_w3_s2_color1.npz')['arr_0']\n",
    "a.shape"
   ]
  },
  {
   "cell_type": "code",
   "execution_count": 60,
   "metadata": {},
   "outputs": [
    {
     "ename": "FileNotFoundError",
     "evalue": "[Errno 2] No such file or directory: '20190708_SJR5.2_w3_s2_ground_truth.npz'",
     "output_type": "error",
     "traceback": [
      "\u001b[1;31m---------------------------------------------------------------------------\u001b[0m",
      "\u001b[1;31mFileNotFoundError\u001b[0m                         Traceback (most recent call last)",
      "\u001b[1;32m<ipython-input-60-96d192353209>\u001b[0m in \u001b[0;36m<module>\u001b[1;34m\u001b[0m\n\u001b[0;32m      4\u001b[0m \u001b[1;32mimport\u001b[0m \u001b[0mmatplotlib\u001b[0m\u001b[1;33m.\u001b[0m\u001b[0mpyplot\u001b[0m \u001b[1;32mas\u001b[0m \u001b[0mplt\u001b[0m\u001b[1;33m\u001b[0m\u001b[1;33m\u001b[0m\u001b[0m\n\u001b[0;32m      5\u001b[0m \u001b[1;33m\u001b[0m\u001b[0m\n\u001b[1;32m----> 6\u001b[1;33m \u001b[0mb\u001b[0m \u001b[1;33m=\u001b[0m \u001b[0mnp\u001b[0m\u001b[1;33m.\u001b[0m\u001b[0mload\u001b[0m\u001b[1;33m(\u001b[0m\u001b[1;34m'20190708_SJR5.2_w3_s2_ground_truth.npz'\u001b[0m\u001b[1;33m)\u001b[0m\u001b[1;33m[\u001b[0m\u001b[1;34m'arr_0'\u001b[0m\u001b[1;33m]\u001b[0m\u001b[1;33m[\u001b[0m\u001b[1;36m0\u001b[0m\u001b[1;33m]\u001b[0m\u001b[1;33m\u001b[0m\u001b[1;33m\u001b[0m\u001b[0m\n\u001b[0m\u001b[0;32m      7\u001b[0m \u001b[0mz\u001b[0m\u001b[1;33m,\u001b[0m\u001b[0mx\u001b[0m\u001b[1;33m,\u001b[0m\u001b[0my\u001b[0m \u001b[1;33m=\u001b[0m \u001b[0mb\u001b[0m\u001b[1;33m.\u001b[0m\u001b[0mnonzero\u001b[0m\u001b[1;33m(\u001b[0m\u001b[1;33m)\u001b[0m\u001b[1;33m\u001b[0m\u001b[1;33m\u001b[0m\u001b[0m\n\u001b[0;32m      8\u001b[0m \u001b[1;33m\u001b[0m\u001b[0m\n",
      "\u001b[1;32m~\\Anaconda3\\lib\\site-packages\\numpy\\lib\\npyio.py\u001b[0m in \u001b[0;36mload\u001b[1;34m(file, mmap_mode, allow_pickle, fix_imports, encoding)\u001b[0m\n\u001b[0;32m    420\u001b[0m         \u001b[0mown_fid\u001b[0m \u001b[1;33m=\u001b[0m \u001b[1;32mFalse\u001b[0m\u001b[1;33m\u001b[0m\u001b[1;33m\u001b[0m\u001b[0m\n\u001b[0;32m    421\u001b[0m     \u001b[1;32melse\u001b[0m\u001b[1;33m:\u001b[0m\u001b[1;33m\u001b[0m\u001b[1;33m\u001b[0m\u001b[0m\n\u001b[1;32m--> 422\u001b[1;33m         \u001b[0mfid\u001b[0m \u001b[1;33m=\u001b[0m \u001b[0mopen\u001b[0m\u001b[1;33m(\u001b[0m\u001b[0mos_fspath\u001b[0m\u001b[1;33m(\u001b[0m\u001b[0mfile\u001b[0m\u001b[1;33m)\u001b[0m\u001b[1;33m,\u001b[0m \u001b[1;34m\"rb\"\u001b[0m\u001b[1;33m)\u001b[0m\u001b[1;33m\u001b[0m\u001b[1;33m\u001b[0m\u001b[0m\n\u001b[0m\u001b[0;32m    423\u001b[0m         \u001b[0mown_fid\u001b[0m \u001b[1;33m=\u001b[0m \u001b[1;32mTrue\u001b[0m\u001b[1;33m\u001b[0m\u001b[1;33m\u001b[0m\u001b[0m\n\u001b[0;32m    424\u001b[0m \u001b[1;33m\u001b[0m\u001b[0m\n",
      "\u001b[1;31mFileNotFoundError\u001b[0m: [Errno 2] No such file or directory: '20190708_SJR5.2_w3_s2_ground_truth.npz'"
     ]
    }
   ],
   "source": [
    "from mpl_toolkits import mplot3d\n",
    "%matplotlib inline\n",
    "import numpy as np\n",
    "import matplotlib.pyplot as plt\n",
    "\n",
    "b = np.load('20190708_SJR5.2_w3_s2_ground_truth.npz')['arr_0'][0]\n",
    "z,x,y = b.nonzero()\n",
    "\n",
    "fig = plt.figure()\n",
    "ax = fig.add_subplot(111, projection='3d')\n",
    "ax.scatter(x, y, -z, zdir='z', c= 'black')\n",
    "plt.savefig(\"demo.png\")"
   ]
  },
  {
   "cell_type": "code",
   "execution_count": 59,
   "metadata": {},
   "outputs": [
    {
     "data": {
      "image/png": "[encoded data removed]",
      "text/plain": [
       "<Figure size 432x288 with 1 Axes>"
      ]
     },
     "metadata": {
      "needs_background": "light"
     },
     "output_type": "display_data"
    }
   ],
   "source": [
    "c_filtered = c.copy()\n",
    "c_filtered[np.where(c_filtered< 0.5)] = 0\n",
    "z,x,y = c_filtered.nonzero()\n",
    "\n",
    "fig = plt.figure()\n",
    "ax = fig.add_subplot(111, projection='3d')\n",
    "ax.scatter(x, y, -z, zdir='z', c= 'red')\n",
    "plt.savefig(\"demo.png\")"
   ]
  },
  {
   "cell_type": "code",
   "execution_count": null,
   "metadata": {},
   "outputs": [],
   "source": [
    "a = np.load('20190708_SJR5.2_w3_s2_color1.npz')['arr_0']\n",
    "a_filtered = a.copy()\n",
    "a_filtered[np.where(a_filtered< 200)] = 0\n",
    "z,x,y = a_filtered.nonzero()\n",
    "\n",
    "fig = plt.figure()\n",
    "ax = fig.add_subplot(111, projection='3d')\n",
    "ax.scatter(x, y, -z, zdir='z', c= 'red')\n",
    "plt.savefig(\"demo.png\")"
   ]
  },
  {
   "cell_type": "code",
   "execution_count": null,
   "metadata": {},
   "outputs": [],
   "source": []
  }
 ],
 "metadata": {
  "kernelspec": {
   "display_name": "Python 3",
   "language": "python",
   "name": "python3"
  },
  "language_info": {
   "codemirror_mode": {
    "name": "ipython",
    "version": 3
   },
   "file_extension": ".py",
   "mimetype": "text/x-python",
   "name": "python",
   "nbconvert_exporter": "python",
   "pygments_lexer": "ipython3",
   "version": "3.6.9"
  }
 },
 "nbformat": 4,
 "nbformat_minor": 2
}
