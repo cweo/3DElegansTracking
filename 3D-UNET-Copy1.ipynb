{
 "cells": [
  {
   "cell_type": "code",
   "execution_count": 1,
   "metadata": {},
   "outputs": [],
   "source": [
    "import matplotlib.pyplot as plt\n",
    "import os\n",
    "import glob\n",
    "import numpy as np\n",
    "from skimage.transform import resize\n",
    "from skimage.io import imsave\n",
    "from skimage.io import imread"
   ]
  },
  {
   "cell_type": "code",
   "execution_count": 2,
   "metadata": {},
   "outputs": [
    {
     "name": "stderr",
     "output_type": "stream",
     "text": [
      "Using TensorFlow backend.\n"
     ]
    }
   ],
   "source": [
    "from keras.models import Model\n",
    "from keras.layers import Input, concatenate, Conv3D, MaxPooling3D, Conv3DTranspose, AveragePooling3D, ZeroPadding3D\n",
    "from keras.optimizers import RMSprop, Adam, SGD\n",
    "from keras.callbacks import ModelCheckpoint, CSVLogger\n",
    "from keras import backend as K\n",
    "from keras.regularizers import l2\n",
    "from keras.utils import plot_model"
   ]
  },
  {
   "cell_type": "code",
   "execution_count": 3,
   "metadata": {},
   "outputs": [],
   "source": [
    "def deform(array, factor, axis):\n",
    "    stretched = np.repeat(array, np.ceil(factor), axis=axis)\n",
    "    indices = np.linspace(0, stretched.shape[axis] - 1, int(array.shape[axis] * factor))\n",
    "    indices = np.rint(indices).astype(int)\n",
    "    return np.take(stretched, indices, axis=axis)"
   ]
  },
  {
   "cell_type": "code",
   "execution_count": 4,
   "metadata": {},
   "outputs": [],
   "source": [
    "data_path = './'\n",
    "project_name = '3D-Unet'\n",
    "img_depth = 32\n",
    "img_rows = 64\n",
    "img_cols = 64\n",
    "smooth = 1."
   ]
  },
  {
   "cell_type": "code",
   "execution_count": 5,
   "metadata": {},
   "outputs": [],
   "source": [
    "K.set_image_data_format('channels_last')"
   ]
  },
  {
   "cell_type": "code",
   "execution_count": 6,
   "metadata": {},
   "outputs": [],
   "source": [
    "def dice_coef(y_true, y_pred):\n",
    "    y_true_f = K.flatten(y_true)\n",
    "    y_pred_f = K.flatten(y_pred)\n",
    "    intersection = K.sum(y_true_f * y_pred_f)\n",
    "    return (2. * intersection + smooth) / (K.sum(y_true_f) + K.sum(y_pred_f) + smooth)\n",
    "\n",
    "\n",
    "def dice_coef_loss(y_true, y_pred):\n",
    "    return -dice_coef(y_true, y_pred)\n",
    "\n",
    "\n",
    "def get_unet():\n",
    "    inputs = Input((img_depth, img_rows, img_cols, 1))\n",
    "    conv1 = Conv3D(32, (3, 3, 3), activation='relu', padding='same')(inputs)\n",
    "    conv1 = Conv3D(32, (3, 3, 3), activation='relu', padding='same')(conv1)\n",
    "    pool1 = MaxPooling3D(pool_size=(2, 2, 2))(conv1)\n",
    "\n",
    "    conv2 = Conv3D(64, (3, 3, 3), activation='relu', padding='same')(pool1)\n",
    "    conv2 = Conv3D(64, (3, 3, 3), activation='relu', padding='same')(conv2)\n",
    "    pool2 = MaxPooling3D(pool_size=(2, 2, 2))(conv2)\n",
    "\n",
    "    conv3 = Conv3D(128, (3, 3, 3), activation='relu', padding='same')(pool2)\n",
    "    conv3 = Conv3D(128, (3, 3, 3), activation='relu', padding='same')(conv3)\n",
    "    pool3 = MaxPooling3D(pool_size=(2, 2, 2))(conv3)\n",
    "\n",
    "    conv4 = Conv3D(256, (3, 3, 3), activation='relu', padding='same')(pool3)\n",
    "    conv4 = Conv3D(256, (3, 3, 3), activation='relu', padding='same')(conv4)\n",
    "    pool4 = MaxPooling3D(pool_size=(2, 2, 2))(conv4)\n",
    "\n",
    "    conv5 = Conv3D(512, (3, 3, 3), activation='relu', padding='same')(pool4)\n",
    "    conv5 = Conv3D(512, (3, 3, 3), activation='relu', padding='same')(conv5)\n",
    "\n",
    "    up6 = concatenate([Conv3DTranspose(256, (2, 2, 2), strides=(2, 2, 2), padding='same')(conv5), conv4], axis=4)\n",
    "    conv6 = Conv3D(256, (3, 3, 3), activation='relu', padding='same')(up6)\n",
    "    conv6 = Conv3D(256, (3, 3, 3), activation='relu', padding='same')(conv6)\n",
    "\n",
    "    up7 = concatenate([Conv3DTranspose(128, (2, 2, 2), strides=(2, 2, 2), padding='same')(conv6), conv3], axis=4)\n",
    "    conv7 = Conv3D(128, (3, 3, 3), activation='relu', padding='same')(up7)\n",
    "    conv7 = Conv3D(128, (3, 3, 3), activation='relu', padding='same')(conv7)\n",
    "\n",
    "    up8 = concatenate([Conv3DTranspose(64, (2, 2, 2), strides=(2, 2, 2), padding='same')(conv7), conv2], axis=4)\n",
    "    conv8 = Conv3D(64, (3, 3, 3), activation='relu', padding='same')(up8)\n",
    "    conv8 = Conv3D(64, (3, 3, 3), activation='relu', padding='same')(conv8)\n",
    "\n",
    "    up9 = concatenate([Conv3DTranspose(32, (2, 2, 2), strides=(2, 2, 2), padding='same')(conv8), conv1], axis=4)\n",
    "    conv9 = Conv3D(32, (3, 3, 3), activation='relu', padding='same')(up9)\n",
    "    conv9 = Conv3D(32, (3, 3, 3), activation='relu', padding='same')(conv9)\n",
    "\n",
    "    conv10 = Conv3D(1, (1, 1, 1), activation='sigmoid')(conv9)\n",
    "\n",
    "\n",
    "    model = Model(inputs=[inputs], outputs=[conv10])\n",
    "\n",
    "    model.summary()\n",
    "    #plot_model(model, to_file='model.png')\n",
    "\n",
    "    model.compile(optimizer=Adam(lr=1e-5), loss=dice_coef_loss, metrics=[dice_coef])\n",
    "\n",
    "    return model"
   ]
  },
  {
   "cell_type": "code",
   "execution_count": 7,
   "metadata": {},
   "outputs": [],
   "source": [
    "def train():\n",
    "    print('-'*30)\n",
    "    print('Loading and preprocessing train data...')\n",
    "    print('-'*30)\n",
    "    \n",
    "    a = np.load('a.npz')['arr_0']\n",
    "    b = np.load('b.npz')['arr_0']\n",
    "    \n",
    "    a = np.transpose(a)\n",
    "    b = np.transpose(b)\n",
    "    \n",
    "    a = deform(a, img_depth/a.shape[0], axis=0)\n",
    "    a = deform(a, img_rows/a.shape[1], axis=1)\n",
    "    a = deform(a, img_cols/a.shape[2], axis=2)\n",
    "    \n",
    "    b = deform(b, img_depth/b.shape[0], axis=0)\n",
    "    b = deform(b, img_rows/b.shape[1], axis=1)\n",
    "    b = deform(b, img_cols/b.shape[2], axis=2)\n",
    "\n",
    "    A = np.array([a,a,a,a,a,a,a,a,a,a])\n",
    "    B = np.array([b,b,b,b,b,b,b,b,b,b])\n",
    "    \n",
    "    imgs_train = np.expand_dims(A, axis=4)\n",
    "    imgs_mask_train = np.expand_dims(B, axis=4)\n",
    "    \n",
    "    imgs_train = imgs_train.astype('float32')\n",
    "    imgs_mask_train = imgs_mask_train.astype('float32')\n",
    "    \n",
    "    print(imgs_mask_train.shape)\n",
    "    print(imgs_train.shape)\n",
    "\n",
    "    print('-'*30)\n",
    "    print('Creating and compiling model...')\n",
    "    print('-'*30)\n",
    "    model = get_unet()\n",
    "    weight_dir = 'weights'\n",
    "    if not os.path.exists(weight_dir):\n",
    "        os.mkdir(weight_dir)\n",
    "    model_checkpoint = ModelCheckpoint(os.path.join(weight_dir, project_name + '.h5'), monitor='val_loss', save_best_only=True)\n",
    "\n",
    "    log_dir = 'logs'\n",
    "    if not os.path.exists(log_dir):\n",
    "        os.mkdir(log_dir)\n",
    "    csv_logger = CSVLogger(os.path.join(log_dir,  project_name + '.txt'), separator=',', append=False)\n",
    "\n",
    "    print('-'*30)\n",
    "    print('Fitting model...')\n",
    "    print('-'*30)\n",
    "\n",
    "    model.fit(imgs_train, imgs_mask_train, batch_size=1, epochs=200, verbose=1, shuffle=True, validation_split=0.20, callbacks=[model_checkpoint, csv_logger])\n",
    "\n",
    "    print('-'*30)\n",
    "    print('Training finished')\n",
    "    print('-'*30)\n",
    "    \n",
    "    A = np.array([a])\n",
    "    imgs_train = np.expand_dims(A, axis=4)\n",
    "    imgs_test = imgs_train.astype('float32')\n",
    "    \n",
    "    imgs_mask_test = model.predict(imgs_test, batch_size=1, verbose=1)\n",
    "\n",
    "    npy_mask_dir = 'test_mask_npy'\n",
    "    if not os.path.exists(npy_mask_dir):\n",
    "        os.mkdir(npy_mask_dir)\n",
    "\n",
    "    np.save(os.path.join(npy_mask_dir, project_name + '_mask.npy'), imgs_mask_test)"
   ]
  },
  {
   "cell_type": "code",
   "execution_count": 8,
   "metadata": {
    "scrolled": false
   },
   "outputs": [
    {
     "name": "stdout",
     "output_type": "stream",
     "text": [
      "------------------------------\n",
      "Loading and preprocessing train data...\n",
      "------------------------------\n",
      "(10, 32, 64, 64, 1)\n",
      "(10, 32, 64, 64, 1)\n",
      "------------------------------\n",
      "Creating and compiling model...\n",
      "------------------------------\n",
      "Model: \"model_1\"\n",
      "__________________________________________________________________________________________________\n",
      "Layer (type)                    Output Shape         Param #     Connected to                     \n",
      "==================================================================================================\n",
      "input_1 (InputLayer)            (None, 32, 64, 64, 1 0                                            \n",
      "__________________________________________________________________________________________________\n",
      "conv3d_1 (Conv3D)               (None, 32, 64, 64, 3 896         input_1[0][0]                    \n",
      "__________________________________________________________________________________________________\n",
      "conv3d_2 (Conv3D)               (None, 32, 64, 64, 3 27680       conv3d_1[0][0]                   \n",
      "__________________________________________________________________________________________________\n",
      "max_pooling3d_1 (MaxPooling3D)  (None, 16, 32, 32, 3 0           conv3d_2[0][0]                   \n",
      "__________________________________________________________________________________________________\n",
      "conv3d_3 (Conv3D)               (None, 16, 32, 32, 6 55360       max_pooling3d_1[0][0]            \n",
      "__________________________________________________________________________________________________\n",
      "conv3d_4 (Conv3D)               (None, 16, 32, 32, 6 110656      conv3d_3[0][0]                   \n",
      "__________________________________________________________________________________________________\n",
      "max_pooling3d_2 (MaxPooling3D)  (None, 8, 16, 16, 64 0           conv3d_4[0][0]                   \n",
      "__________________________________________________________________________________________________\n",
      "conv3d_5 (Conv3D)               (None, 8, 16, 16, 12 221312      max_pooling3d_2[0][0]            \n",
      "__________________________________________________________________________________________________\n",
      "conv3d_6 (Conv3D)               (None, 8, 16, 16, 12 442496      conv3d_5[0][0]                   \n",
      "__________________________________________________________________________________________________\n",
      "max_pooling3d_3 (MaxPooling3D)  (None, 4, 8, 8, 128) 0           conv3d_6[0][0]                   \n",
      "__________________________________________________________________________________________________\n",
      "conv3d_7 (Conv3D)               (None, 4, 8, 8, 256) 884992      max_pooling3d_3[0][0]            \n",
      "__________________________________________________________________________________________________\n",
      "conv3d_8 (Conv3D)               (None, 4, 8, 8, 256) 1769728     conv3d_7[0][0]                   \n",
      "__________________________________________________________________________________________________\n",
      "max_pooling3d_4 (MaxPooling3D)  (None, 2, 4, 4, 256) 0           conv3d_8[0][0]                   \n",
      "__________________________________________________________________________________________________\n",
      "conv3d_9 (Conv3D)               (None, 2, 4, 4, 512) 3539456     max_pooling3d_4[0][0]            \n",
      "__________________________________________________________________________________________________\n",
      "conv3d_10 (Conv3D)              (None, 2, 4, 4, 512) 7078400     conv3d_9[0][0]                   \n",
      "__________________________________________________________________________________________________\n",
      "conv3d_transpose_1 (Conv3DTrans (None, 4, 8, 8, 256) 1048832     conv3d_10[0][0]                  \n",
      "__________________________________________________________________________________________________\n",
      "concatenate_1 (Concatenate)     (None, 4, 8, 8, 512) 0           conv3d_transpose_1[0][0]         \n",
      "                                                                 conv3d_8[0][0]                   \n",
      "__________________________________________________________________________________________________\n",
      "conv3d_11 (Conv3D)              (None, 4, 8, 8, 256) 3539200     concatenate_1[0][0]              \n",
      "__________________________________________________________________________________________________\n",
      "conv3d_12 (Conv3D)              (None, 4, 8, 8, 256) 1769728     conv3d_11[0][0]                  \n",
      "__________________________________________________________________________________________________\n",
      "conv3d_transpose_2 (Conv3DTrans (None, 8, 16, 16, 12 262272      conv3d_12[0][0]                  \n",
      "__________________________________________________________________________________________________\n",
      "concatenate_2 (Concatenate)     (None, 8, 16, 16, 25 0           conv3d_transpose_2[0][0]         \n",
      "                                                                 conv3d_6[0][0]                   \n",
      "__________________________________________________________________________________________________\n",
      "conv3d_13 (Conv3D)              (None, 8, 16, 16, 12 884864      concatenate_2[0][0]              \n",
      "__________________________________________________________________________________________________\n",
      "conv3d_14 (Conv3D)              (None, 8, 16, 16, 12 442496      conv3d_13[0][0]                  \n",
      "__________________________________________________________________________________________________\n",
      "conv3d_transpose_3 (Conv3DTrans (None, 16, 32, 32, 6 65600       conv3d_14[0][0]                  \n",
      "__________________________________________________________________________________________________\n",
      "concatenate_3 (Concatenate)     (None, 16, 32, 32, 1 0           conv3d_transpose_3[0][0]         \n",
      "                                                                 conv3d_4[0][0]                   \n",
      "__________________________________________________________________________________________________\n",
      "conv3d_15 (Conv3D)              (None, 16, 32, 32, 6 221248      concatenate_3[0][0]              \n",
      "__________________________________________________________________________________________________\n",
      "conv3d_16 (Conv3D)              (None, 16, 32, 32, 6 110656      conv3d_15[0][0]                  \n",
      "__________________________________________________________________________________________________\n",
      "conv3d_transpose_4 (Conv3DTrans (None, 32, 64, 64, 3 16416       conv3d_16[0][0]                  \n",
      "__________________________________________________________________________________________________\n",
      "concatenate_4 (Concatenate)     (None, 32, 64, 64, 6 0           conv3d_transpose_4[0][0]         \n",
      "                                                                 conv3d_2[0][0]                   \n",
      "__________________________________________________________________________________________________\n",
      "conv3d_17 (Conv3D)              (None, 32, 64, 64, 3 55328       concatenate_4[0][0]              \n",
      "__________________________________________________________________________________________________\n",
      "conv3d_18 (Conv3D)              (None, 32, 64, 64, 3 27680       conv3d_17[0][0]                  \n",
      "__________________________________________________________________________________________________\n",
      "conv3d_19 (Conv3D)              (None, 32, 64, 64, 1 33          conv3d_18[0][0]                  \n",
      "==================================================================================================\n",
      "Total params: 22,575,329\n",
      "Trainable params: 22,575,329\n",
      "Non-trainable params: 0\n",
      "__________________________________________________________________________________________________\n",
      "------------------------------\n",
      "Fitting model...\n",
      "------------------------------\n",
      "Train on 8 samples, validate on 2 samples\n",
      "Epoch 1/200\n",
      "8/8 [==============================] - 6s 762ms/step - loss: -0.0177 - dice_coef: 0.0177 - val_loss: -0.0178 - val_dice_coef: 0.0178\n",
      "Epoch 2/200\n",
      "8/8 [==============================] - 2s 308ms/step - loss: -0.0178 - dice_coef: 0.0178 - val_loss: -0.0178 - val_dice_coef: 0.0178\n",
      "Epoch 3/200\n",
      "8/8 [==============================] - 2s 309ms/step - loss: -0.0178 - dice_coef: 0.0178 - val_loss: -0.0179 - val_dice_coef: 0.0179\n",
      "Epoch 4/200\n",
      "8/8 [==============================] - 2s 311ms/step - loss: -0.0179 - dice_coef: 0.0179 - val_loss: -0.0179 - val_dice_coef: 0.0179\n",
      "Epoch 5/200\n"
     ]
    },
    {
     "name": "stdout",
     "output_type": "stream",
     "text": [
      "8/8 [==============================] - 2s 310ms/step - loss: -0.0179 - dice_coef: 0.0179 - val_loss: -0.0180 - val_dice_coef: 0.0180\n",
      "Epoch 6/200\n",
      "8/8 [==============================] - 2s 311ms/step - loss: -0.0180 - dice_coef: 0.0180 - val_loss: -0.0181 - val_dice_coef: 0.0181\n",
      "Epoch 7/200\n",
      "8/8 [==============================] - 2s 309ms/step - loss: -0.0181 - dice_coef: 0.0181 - val_loss: -0.0181 - val_dice_coef: 0.0181\n",
      "Epoch 8/200\n",
      "8/8 [==============================] - 2s 309ms/step - loss: -0.0182 - dice_coef: 0.0182 - val_loss: -0.0183 - val_dice_coef: 0.0183\n",
      "Epoch 9/200\n",
      "8/8 [==============================] - 2s 309ms/step - loss: -0.0183 - dice_coef: 0.0183 - val_loss: -0.0184 - val_dice_coef: 0.0184\n",
      "Epoch 10/200\n",
      "8/8 [==============================] - 2s 310ms/step - loss: -0.0184 - dice_coef: 0.0184 - val_loss: -0.0185 - val_dice_coef: 0.0185\n",
      "Epoch 11/200\n",
      "8/8 [==============================] - 2s 309ms/step - loss: -0.0186 - dice_coef: 0.0186 - val_loss: -0.0187 - val_dice_coef: 0.0187\n",
      "Epoch 12/200\n",
      "8/8 [==============================] - 2s 309ms/step - loss: -0.0188 - dice_coef: 0.0188 - val_loss: -0.0189 - val_dice_coef: 0.0189\n",
      "Epoch 13/200\n",
      "8/8 [==============================] - 2s 309ms/step - loss: -0.0191 - dice_coef: 0.0191 - val_loss: -0.0192 - val_dice_coef: 0.0192\n",
      "Epoch 14/200\n",
      "8/8 [==============================] - 2s 310ms/step - loss: -0.0194 - dice_coef: 0.0194 - val_loss: -0.0197 - val_dice_coef: 0.0197\n",
      "Epoch 15/200\n",
      "8/8 [==============================] - 2s 309ms/step - loss: -0.0200 - dice_coef: 0.0200 - val_loss: -0.0204 - val_dice_coef: 0.0204\n",
      "Epoch 16/200\n",
      "8/8 [==============================] - 2s 310ms/step - loss: -0.0208 - dice_coef: 0.0208 - val_loss: -0.0213 - val_dice_coef: 0.0213\n",
      "Epoch 17/200\n",
      "8/8 [==============================] - 2s 309ms/step - loss: -0.0219 - dice_coef: 0.0219 - val_loss: -0.0228 - val_dice_coef: 0.0228\n",
      "Epoch 18/200\n",
      "8/8 [==============================] - 2s 310ms/step - loss: -0.0236 - dice_coef: 0.0236 - val_loss: -0.0247 - val_dice_coef: 0.0247\n",
      "Epoch 19/200\n",
      "8/8 [==============================] - 2s 309ms/step - loss: -0.0255 - dice_coef: 0.0255 - val_loss: -0.0266 - val_dice_coef: 0.0266\n",
      "Epoch 20/200\n",
      "8/8 [==============================] - 2s 310ms/step - loss: -0.0272 - dice_coef: 0.0272 - val_loss: -0.0278 - val_dice_coef: 0.0278\n",
      "Epoch 21/200\n",
      "8/8 [==============================] - 2s 309ms/step - loss: -0.0281 - dice_coef: 0.0281 - val_loss: -0.0285 - val_dice_coef: 0.0285\n",
      "Epoch 22/200\n",
      "8/8 [==============================] - 2s 312ms/step - loss: -0.0288 - dice_coef: 0.0288 - val_loss: -0.0293 - val_dice_coef: 0.0293\n",
      "Epoch 23/200\n",
      "8/8 [==============================] - 2s 309ms/step - loss: -0.0297 - dice_coef: 0.0297 - val_loss: -0.0301 - val_dice_coef: 0.0301\n",
      "Epoch 24/200\n",
      "8/8 [==============================] - 2s 309ms/step - loss: -0.0304 - dice_coef: 0.0304 - val_loss: -0.0308 - val_dice_coef: 0.0308\n",
      "Epoch 25/200\n",
      "8/8 [==============================] - 2s 311ms/step - loss: -0.0310 - dice_coef: 0.0310 - val_loss: -0.0312 - val_dice_coef: 0.0312\n",
      "Epoch 26/200\n",
      "8/8 [==============================] - 2s 310ms/step - loss: -0.0313 - dice_coef: 0.0313 - val_loss: -0.0315 - val_dice_coef: 0.0315\n",
      "Epoch 27/200\n",
      "8/8 [==============================] - 2s 310ms/step - loss: -0.0316 - dice_coef: 0.0316 - val_loss: -0.0318 - val_dice_coef: 0.0318\n",
      "Epoch 28/200\n",
      "8/8 [==============================] - 2s 310ms/step - loss: -0.0319 - dice_coef: 0.0319 - val_loss: -0.0320 - val_dice_coef: 0.0320\n",
      "Epoch 29/200\n",
      "8/8 [==============================] - 2s 310ms/step - loss: -0.0321 - dice_coef: 0.0321 - val_loss: -0.0322 - val_dice_coef: 0.0322\n",
      "Epoch 30/200\n",
      "8/8 [==============================] - 2s 311ms/step - loss: -0.0323 - dice_coef: 0.0323 - val_loss: -0.0325 - val_dice_coef: 0.0325\n",
      "Epoch 31/200\n",
      "8/8 [==============================] - 2s 310ms/step - loss: -0.0326 - dice_coef: 0.0326 - val_loss: -0.0328 - val_dice_coef: 0.0328\n",
      "Epoch 32/200\n",
      "8/8 [==============================] - 2s 310ms/step - loss: -0.0330 - dice_coef: 0.0330 - val_loss: -0.0334 - val_dice_coef: 0.0334\n",
      "Epoch 33/200\n",
      "8/8 [==============================] - 2s 310ms/step - loss: -0.0338 - dice_coef: 0.0338 - val_loss: -0.0346 - val_dice_coef: 0.0346\n",
      "Epoch 34/200\n",
      "8/8 [==============================] - 2s 311ms/step - loss: -0.0364 - dice_coef: 0.0364 - val_loss: -0.0408 - val_dice_coef: 0.0408\n",
      "Epoch 35/200\n",
      "8/8 [==============================] - 2s 310ms/step - loss: -0.0569 - dice_coef: 0.0569 - val_loss: -0.0985 - val_dice_coef: 0.0985\n",
      "Epoch 36/200\n",
      "8/8 [==============================] - 2s 310ms/step - loss: -0.1356 - dice_coef: 0.1356 - val_loss: -0.1768 - val_dice_coef: 0.1768\n",
      "Epoch 37/200\n",
      "8/8 [==============================] - 2s 312ms/step - loss: -0.2274 - dice_coef: 0.2274 - val_loss: -0.2331 - val_dice_coef: 0.2331\n",
      "Epoch 38/200\n",
      "8/8 [==============================] - 2s 311ms/step - loss: -0.1714 - dice_coef: 0.1714 - val_loss: -0.2516 - val_dice_coef: 0.2516\n",
      "Epoch 39/200\n",
      "8/8 [==============================] - 2s 310ms/step - loss: -0.2926 - dice_coef: 0.2926 - val_loss: -0.2875 - val_dice_coef: 0.2875\n",
      "Epoch 40/200\n",
      "8/8 [==============================] - 2s 310ms/step - loss: -0.3081 - dice_coef: 0.3081 - val_loss: -0.3389 - val_dice_coef: 0.3389\n",
      "Epoch 41/200\n",
      "8/8 [==============================] - 2s 310ms/step - loss: -0.3642 - dice_coef: 0.3642 - val_loss: -0.3940 - val_dice_coef: 0.3940\n",
      "Epoch 42/200\n",
      "8/8 [==============================] - 2s 310ms/step - loss: -0.4003 - dice_coef: 0.4003 - val_loss: -0.4481 - val_dice_coef: 0.4481\n",
      "Epoch 43/200\n",
      "8/8 [==============================] - 2s 310ms/step - loss: -0.4106 - dice_coef: 0.4106 - val_loss: -0.4830 - val_dice_coef: 0.4830\n",
      "Epoch 44/200\n",
      "8/8 [==============================] - 2s 310ms/step - loss: -0.4777 - dice_coef: 0.4777 - val_loss: -0.4579 - val_dice_coef: 0.4579\n",
      "Epoch 45/200\n",
      "8/8 [==============================] - 2s 310ms/step - loss: -0.5021 - dice_coef: 0.5021 - val_loss: -0.5334 - val_dice_coef: 0.5334\n",
      "Epoch 46/200\n",
      "8/8 [==============================] - 2s 310ms/step - loss: -0.5460 - dice_coef: 0.5460 - val_loss: -0.5610 - val_dice_coef: 0.5610\n",
      "Epoch 47/200\n",
      "8/8 [==============================] - 2s 310ms/step - loss: -0.5812 - dice_coef: 0.5812 - val_loss: -0.6052 - val_dice_coef: 0.6052\n",
      "Epoch 48/200\n",
      "8/8 [==============================] - 2s 309ms/step - loss: -0.6013 - dice_coef: 0.6013 - val_loss: -0.6000 - val_dice_coef: 0.6000\n",
      "Epoch 49/200\n",
      "8/8 [==============================] - 2s 310ms/step - loss: -0.5765 - dice_coef: 0.5765 - val_loss: -0.6312 - val_dice_coef: 0.6312\n",
      "Epoch 50/200\n",
      "8/8 [==============================] - 2s 310ms/step - loss: -0.6184 - dice_coef: 0.6184 - val_loss: -0.6239 - val_dice_coef: 0.6239\n",
      "Epoch 51/200\n",
      "8/8 [==============================] - 2s 309ms/step - loss: -0.6388 - dice_coef: 0.6388 - val_loss: -0.6466 - val_dice_coef: 0.6466\n",
      "Epoch 52/200\n",
      "8/8 [==============================] - 2s 311ms/step - loss: -0.6434 - dice_coef: 0.6434 - val_loss: -0.6572 - val_dice_coef: 0.6572\n",
      "Epoch 53/200\n",
      "8/8 [==============================] - 2s 311ms/step - loss: -0.6502 - dice_coef: 0.6502 - val_loss: -0.6386 - val_dice_coef: 0.6386\n",
      "Epoch 54/200\n",
      "8/8 [==============================] - 2s 311ms/step - loss: -0.6524 - dice_coef: 0.6524 - val_loss: -0.6699 - val_dice_coef: 0.6699\n",
      "Epoch 55/200\n",
      "8/8 [==============================] - 2s 310ms/step - loss: -0.6612 - dice_coef: 0.6612 - val_loss: -0.6565 - val_dice_coef: 0.6565\n",
      "Epoch 56/200\n",
      "8/8 [==============================] - 2s 309ms/step - loss: -0.6567 - dice_coef: 0.6567 - val_loss: -0.6466 - val_dice_coef: 0.6466\n",
      "Epoch 57/200\n",
      "8/8 [==============================] - 2s 309ms/step - loss: -0.6598 - dice_coef: 0.6598 - val_loss: -0.6724 - val_dice_coef: 0.6724\n",
      "Epoch 58/200\n",
      "8/8 [==============================] - 2s 310ms/step - loss: -0.6698 - dice_coef: 0.6698 - val_loss: -0.6682 - val_dice_coef: 0.6682\n",
      "Epoch 59/200\n",
      "8/8 [==============================] - 2s 309ms/step - loss: -0.6645 - dice_coef: 0.6645 - val_loss: -0.6134 - val_dice_coef: 0.6134\n",
      "Epoch 60/200\n",
      "8/8 [==============================] - 2s 309ms/step - loss: -0.6711 - dice_coef: 0.6711 - val_loss: -0.6936 - val_dice_coef: 0.6936\n",
      "Epoch 61/200\n"
     ]
    },
    {
     "name": "stdout",
     "output_type": "stream",
     "text": [
      "8/8 [==============================] - 2s 310ms/step - loss: -0.6902 - dice_coef: 0.6902 - val_loss: -0.6966 - val_dice_coef: 0.6966\n",
      "Epoch 62/200\n",
      "8/8 [==============================] - 2s 310ms/step - loss: -0.7023 - dice_coef: 0.7023 - val_loss: -0.7090 - val_dice_coef: 0.7090\n",
      "Epoch 63/200\n",
      "8/8 [==============================] - 2s 310ms/step - loss: -0.6958 - dice_coef: 0.6958 - val_loss: -0.6750 - val_dice_coef: 0.6750\n",
      "Epoch 64/200\n",
      "8/8 [==============================] - 2s 310ms/step - loss: -0.6927 - dice_coef: 0.6927 - val_loss: -0.7108 - val_dice_coef: 0.7108\n",
      "Epoch 65/200\n",
      "8/8 [==============================] - 3s 313ms/step - loss: -0.7099 - dice_coef: 0.7099 - val_loss: -0.6996 - val_dice_coef: 0.6996\n",
      "Epoch 66/200\n",
      "8/8 [==============================] - 2s 309ms/step - loss: -0.6983 - dice_coef: 0.6983 - val_loss: -0.7076 - val_dice_coef: 0.7076\n",
      "Epoch 67/200\n",
      "8/8 [==============================] - 2s 310ms/step - loss: -0.6932 - dice_coef: 0.6932 - val_loss: -0.6641 - val_dice_coef: 0.6641\n",
      "Epoch 68/200\n",
      "8/8 [==============================] - 2s 309ms/step - loss: -0.6938 - dice_coef: 0.6938 - val_loss: -0.7221 - val_dice_coef: 0.7221\n",
      "Epoch 69/200\n",
      "8/8 [==============================] - 2s 309ms/step - loss: -0.6745 - dice_coef: 0.6745 - val_loss: -0.6763 - val_dice_coef: 0.6763\n",
      "Epoch 70/200\n",
      "8/8 [==============================] - 2s 310ms/step - loss: -0.7011 - dice_coef: 0.7011 - val_loss: -0.7123 - val_dice_coef: 0.7123\n",
      "Epoch 71/200\n",
      "8/8 [==============================] - 2s 309ms/step - loss: -0.7084 - dice_coef: 0.7084 - val_loss: -0.7226 - val_dice_coef: 0.7226\n",
      "Epoch 72/200\n",
      "8/8 [==============================] - 2s 312ms/step - loss: -0.7280 - dice_coef: 0.7280 - val_loss: -0.7298 - val_dice_coef: 0.7298\n",
      "Epoch 73/200\n",
      "8/8 [==============================] - 2s 310ms/step - loss: -0.7378 - dice_coef: 0.7378 - val_loss: -0.7268 - val_dice_coef: 0.7268\n",
      "Epoch 74/200\n",
      "8/8 [==============================] - 2s 310ms/step - loss: -0.7334 - dice_coef: 0.7334 - val_loss: -0.7335 - val_dice_coef: 0.7335\n",
      "Epoch 75/200\n",
      "8/8 [==============================] - 2s 310ms/step - loss: -0.7416 - dice_coef: 0.7416 - val_loss: -0.7336 - val_dice_coef: 0.7336\n",
      "Epoch 76/200\n",
      "8/8 [==============================] - 2s 312ms/step - loss: -0.7360 - dice_coef: 0.7360 - val_loss: -0.7124 - val_dice_coef: 0.7124\n",
      "Epoch 77/200\n",
      "8/8 [==============================] - 2s 311ms/step - loss: -0.7250 - dice_coef: 0.7250 - val_loss: -0.7013 - val_dice_coef: 0.7013\n",
      "Epoch 78/200\n",
      "8/8 [==============================] - 2s 309ms/step - loss: -0.7278 - dice_coef: 0.7278 - val_loss: -0.7215 - val_dice_coef: 0.7215\n",
      "Epoch 79/200\n",
      "8/8 [==============================] - 2s 310ms/step - loss: -0.7225 - dice_coef: 0.7225 - val_loss: -0.7540 - val_dice_coef: 0.7540\n",
      "Epoch 80/200\n",
      "8/8 [==============================] - 2s 310ms/step - loss: -0.7488 - dice_coef: 0.7488 - val_loss: -0.7564 - val_dice_coef: 0.7564\n",
      "Epoch 81/200\n",
      "8/8 [==============================] - 2s 309ms/step - loss: -0.7455 - dice_coef: 0.7455 - val_loss: -0.7494 - val_dice_coef: 0.7494\n",
      "Epoch 82/200\n",
      "8/8 [==============================] - 2s 312ms/step - loss: -0.7569 - dice_coef: 0.7569 - val_loss: -0.7594 - val_dice_coef: 0.7594\n",
      "Epoch 83/200\n",
      "8/8 [==============================] - 2s 310ms/step - loss: -0.7405 - dice_coef: 0.7405 - val_loss: -0.7380 - val_dice_coef: 0.7380\n",
      "Epoch 84/200\n",
      "8/8 [==============================] - 2s 309ms/step - loss: -0.6980 - dice_coef: 0.6980 - val_loss: -0.6972 - val_dice_coef: 0.6972\n",
      "Epoch 85/200\n",
      "8/8 [==============================] - 2s 310ms/step - loss: -0.6862 - dice_coef: 0.6862 - val_loss: -0.7174 - val_dice_coef: 0.7174\n",
      "Epoch 86/200\n",
      "8/8 [==============================] - 2s 309ms/step - loss: -0.7205 - dice_coef: 0.7205 - val_loss: -0.7470 - val_dice_coef: 0.7470\n",
      "Epoch 87/200\n",
      "8/8 [==============================] - 2s 310ms/step - loss: -0.7384 - dice_coef: 0.7384 - val_loss: -0.7625 - val_dice_coef: 0.7625\n",
      "Epoch 88/200\n",
      "8/8 [==============================] - 2s 312ms/step - loss: -0.7436 - dice_coef: 0.7436 - val_loss: -0.7411 - val_dice_coef: 0.7411\n",
      "Epoch 89/200\n",
      "8/8 [==============================] - 2s 309ms/step - loss: -0.7455 - dice_coef: 0.7455 - val_loss: -0.7585 - val_dice_coef: 0.7585\n",
      "Epoch 90/200\n",
      "8/8 [==============================] - 2s 309ms/step - loss: -0.7609 - dice_coef: 0.7609 - val_loss: -0.7689 - val_dice_coef: 0.7689\n",
      "Epoch 91/200\n",
      "8/8 [==============================] - 2s 310ms/step - loss: -0.7531 - dice_coef: 0.7531 - val_loss: -0.7090 - val_dice_coef: 0.7090\n",
      "Epoch 92/200\n",
      "8/8 [==============================] - 2s 311ms/step - loss: -0.7264 - dice_coef: 0.7264 - val_loss: -0.7566 - val_dice_coef: 0.7566\n",
      "Epoch 93/200\n",
      "8/8 [==============================] - 2s 312ms/step - loss: -0.7327 - dice_coef: 0.7327 - val_loss: -0.7707 - val_dice_coef: 0.7707\n",
      "Epoch 94/200\n",
      "8/8 [==============================] - 2s 310ms/step - loss: -0.7124 - dice_coef: 0.7124 - val_loss: -0.7607 - val_dice_coef: 0.7607\n",
      "Epoch 95/200\n",
      "8/8 [==============================] - 2s 312ms/step - loss: -0.7256 - dice_coef: 0.7256 - val_loss: -0.7227 - val_dice_coef: 0.7227\n",
      "Epoch 96/200\n",
      "8/8 [==============================] - 2s 310ms/step - loss: -0.7483 - dice_coef: 0.7483 - val_loss: -0.7552 - val_dice_coef: 0.7552\n",
      "Epoch 97/200\n",
      "8/8 [==============================] - 2s 310ms/step - loss: -0.7538 - dice_coef: 0.7538 - val_loss: -0.7369 - val_dice_coef: 0.7369\n",
      "Epoch 98/200\n",
      "8/8 [==============================] - 2s 310ms/step - loss: -0.7432 - dice_coef: 0.7432 - val_loss: -0.7212 - val_dice_coef: 0.7212\n",
      "Epoch 99/200\n",
      "8/8 [==============================] - 2s 311ms/step - loss: -0.7522 - dice_coef: 0.7522 - val_loss: -0.7756 - val_dice_coef: 0.7756\n",
      "Epoch 100/200\n",
      "8/8 [==============================] - 2s 309ms/step - loss: -0.7731 - dice_coef: 0.7731 - val_loss: -0.7775 - val_dice_coef: 0.7775\n",
      "Epoch 101/200\n",
      "8/8 [==============================] - 2s 309ms/step - loss: -0.7776 - dice_coef: 0.7776 - val_loss: -0.7852 - val_dice_coef: 0.7852\n",
      "Epoch 102/200\n",
      "8/8 [==============================] - 2s 309ms/step - loss: -0.7696 - dice_coef: 0.7696 - val_loss: -0.7562 - val_dice_coef: 0.7562\n",
      "Epoch 103/200\n",
      "8/8 [==============================] - 2s 310ms/step - loss: -0.7749 - dice_coef: 0.7749 - val_loss: -0.7751 - val_dice_coef: 0.7751\n",
      "Epoch 104/200\n",
      "8/8 [==============================] - 3s 313ms/step - loss: -0.7778 - dice_coef: 0.7778 - val_loss: -0.7838 - val_dice_coef: 0.7838\n",
      "Epoch 105/200\n",
      "8/8 [==============================] - 2s 310ms/step - loss: -0.7893 - dice_coef: 0.7893 - val_loss: -0.7909 - val_dice_coef: 0.7909\n",
      "Epoch 106/200\n",
      "8/8 [==============================] - 2s 310ms/step - loss: -0.7750 - dice_coef: 0.7750 - val_loss: -0.6992 - val_dice_coef: 0.6992\n",
      "Epoch 107/200\n",
      "8/8 [==============================] - 2s 310ms/step - loss: -0.7309 - dice_coef: 0.7309 - val_loss: -0.7564 - val_dice_coef: 0.7564\n",
      "Epoch 108/200\n",
      "8/8 [==============================] - 2s 310ms/step - loss: -0.7182 - dice_coef: 0.7182 - val_loss: -0.6664 - val_dice_coef: 0.6664\n",
      "Epoch 109/200\n",
      "8/8 [==============================] - 2s 309ms/step - loss: -0.6794 - dice_coef: 0.6794 - val_loss: -0.7808 - val_dice_coef: 0.7808\n",
      "Epoch 110/200\n",
      "8/8 [==============================] - 2s 310ms/step - loss: -0.7332 - dice_coef: 0.7332 - val_loss: -0.7598 - val_dice_coef: 0.7598\n",
      "Epoch 111/200\n",
      "8/8 [==============================] - 2s 309ms/step - loss: -0.7671 - dice_coef: 0.7671 - val_loss: -0.7795 - val_dice_coef: 0.7795\n",
      "Epoch 112/200\n",
      "8/8 [==============================] - 2s 309ms/step - loss: -0.7846 - dice_coef: 0.7846 - val_loss: -0.7893 - val_dice_coef: 0.7893\n",
      "Epoch 113/200\n",
      "8/8 [==============================] - 2s 309ms/step - loss: -0.7943 - dice_coef: 0.7943 - val_loss: -0.7980 - val_dice_coef: 0.7980\n",
      "Epoch 114/200\n",
      "8/8 [==============================] - 2s 310ms/step - loss: -0.8007 - dice_coef: 0.8007 - val_loss: -0.7546 - val_dice_coef: 0.7546\n",
      "Epoch 115/200\n",
      "8/8 [==============================] - 2s 311ms/step - loss: -0.7890 - dice_coef: 0.7890 - val_loss: -0.7873 - val_dice_coef: 0.7873\n",
      "Epoch 116/200\n",
      "8/8 [==============================] - 2s 311ms/step - loss: -0.7663 - dice_coef: 0.7663 - val_loss: -0.7754 - val_dice_coef: 0.7754\n",
      "Epoch 117/200\n"
     ]
    },
    {
     "name": "stdout",
     "output_type": "stream",
     "text": [
      "8/8 [==============================] - 2s 310ms/step - loss: -0.7668 - dice_coef: 0.7668 - val_loss: -0.7936 - val_dice_coef: 0.7936\n",
      "Epoch 118/200\n",
      "8/8 [==============================] - 2s 310ms/step - loss: -0.7783 - dice_coef: 0.7783 - val_loss: -0.7824 - val_dice_coef: 0.7824\n",
      "Epoch 119/200\n",
      "8/8 [==============================] - 2s 311ms/step - loss: -0.7851 - dice_coef: 0.7851 - val_loss: -0.7929 - val_dice_coef: 0.7929\n",
      "Epoch 120/200\n",
      "8/8 [==============================] - 2s 310ms/step - loss: -0.7975 - dice_coef: 0.7975 - val_loss: -0.8017 - val_dice_coef: 0.8017\n",
      "Epoch 121/200\n",
      "8/8 [==============================] - 2s 311ms/step - loss: -0.8034 - dice_coef: 0.8034 - val_loss: -0.8047 - val_dice_coef: 0.8047\n",
      "Epoch 122/200\n",
      "8/8 [==============================] - 2s 310ms/step - loss: -0.7962 - dice_coef: 0.7962 - val_loss: -0.7511 - val_dice_coef: 0.7511\n",
      "Epoch 123/200\n",
      "8/8 [==============================] - 2s 310ms/step - loss: -0.7888 - dice_coef: 0.7888 - val_loss: -0.7957 - val_dice_coef: 0.7957\n",
      "Epoch 124/200\n",
      "8/8 [==============================] - 2s 310ms/step - loss: -0.8018 - dice_coef: 0.8018 - val_loss: -0.8074 - val_dice_coef: 0.8074\n",
      "Epoch 125/200\n",
      "8/8 [==============================] - 2s 309ms/step - loss: -0.8059 - dice_coef: 0.8059 - val_loss: -0.7910 - val_dice_coef: 0.7910\n",
      "Epoch 126/200\n",
      "8/8 [==============================] - 2s 310ms/step - loss: -0.7182 - dice_coef: 0.7182 - val_loss: -0.6062 - val_dice_coef: 0.6062\n",
      "Epoch 127/200\n",
      "8/8 [==============================] - 2s 311ms/step - loss: -0.6980 - dice_coef: 0.6980 - val_loss: -0.7202 - val_dice_coef: 0.7202\n",
      "Epoch 128/200\n",
      "8/8 [==============================] - 2s 310ms/step - loss: -0.7354 - dice_coef: 0.7354 - val_loss: -0.7954 - val_dice_coef: 0.7954\n",
      "Epoch 129/200\n",
      "8/8 [==============================] - 2s 310ms/step - loss: -0.7617 - dice_coef: 0.7617 - val_loss: -0.7616 - val_dice_coef: 0.7616\n",
      "Epoch 130/200\n",
      "8/8 [==============================] - 2s 311ms/step - loss: -0.7537 - dice_coef: 0.7537 - val_loss: -0.7924 - val_dice_coef: 0.7924\n",
      "Epoch 131/200\n",
      "8/8 [==============================] - 2s 310ms/step - loss: -0.7790 - dice_coef: 0.7790 - val_loss: -0.7825 - val_dice_coef: 0.7825\n",
      "Epoch 132/200\n",
      "8/8 [==============================] - 2s 310ms/step - loss: -0.7887 - dice_coef: 0.7887 - val_loss: -0.7816 - val_dice_coef: 0.7816\n",
      "Epoch 133/200\n",
      "8/8 [==============================] - 2s 310ms/step - loss: -0.7920 - dice_coef: 0.7920 - val_loss: -0.7802 - val_dice_coef: 0.7802\n",
      "Epoch 134/200\n",
      "8/8 [==============================] - 2s 310ms/step - loss: -0.7807 - dice_coef: 0.7807 - val_loss: -0.7895 - val_dice_coef: 0.7895\n",
      "Epoch 135/200\n",
      "8/8 [==============================] - 2s 310ms/step - loss: -0.7945 - dice_coef: 0.7945 - val_loss: -0.7613 - val_dice_coef: 0.7613\n",
      "Epoch 136/200\n",
      "8/8 [==============================] - 2s 310ms/step - loss: -0.7749 - dice_coef: 0.7749 - val_loss: -0.8068 - val_dice_coef: 0.8068\n",
      "Epoch 137/200\n",
      "8/8 [==============================] - 2s 310ms/step - loss: -0.7944 - dice_coef: 0.7944 - val_loss: -0.8071 - val_dice_coef: 0.8071\n",
      "Epoch 138/200\n",
      "8/8 [==============================] - 2s 310ms/step - loss: -0.7776 - dice_coef: 0.7776 - val_loss: -0.6816 - val_dice_coef: 0.6816\n",
      "Epoch 139/200\n",
      "8/8 [==============================] - 2s 309ms/step - loss: -0.7213 - dice_coef: 0.7213 - val_loss: -0.7428 - val_dice_coef: 0.7428\n",
      "Epoch 140/200\n",
      "8/8 [==============================] - 2s 309ms/step - loss: -0.7793 - dice_coef: 0.7793 - val_loss: -0.8066 - val_dice_coef: 0.8066\n",
      "Epoch 141/200\n",
      "8/8 [==============================] - 2s 310ms/step - loss: -0.8049 - dice_coef: 0.8049 - val_loss: -0.8064 - val_dice_coef: 0.8064\n",
      "Epoch 142/200\n",
      "8/8 [==============================] - 2s 311ms/step - loss: -0.8101 - dice_coef: 0.8101 - val_loss: -0.8085 - val_dice_coef: 0.8085\n",
      "Epoch 143/200\n",
      "8/8 [==============================] - 2s 310ms/step - loss: -0.8128 - dice_coef: 0.8128 - val_loss: -0.8160 - val_dice_coef: 0.8160\n",
      "Epoch 144/200\n",
      "8/8 [==============================] - 2s 310ms/step - loss: -0.8120 - dice_coef: 0.8120 - val_loss: -0.8129 - val_dice_coef: 0.8129\n",
      "Epoch 145/200\n",
      "8/8 [==============================] - 2s 310ms/step - loss: -0.8148 - dice_coef: 0.8148 - val_loss: -0.8128 - val_dice_coef: 0.8128\n",
      "Epoch 146/200\n",
      "8/8 [==============================] - 2s 312ms/step - loss: -0.8150 - dice_coef: 0.8150 - val_loss: -0.8177 - val_dice_coef: 0.8177\n",
      "Epoch 147/200\n",
      "8/8 [==============================] - 2s 310ms/step - loss: -0.8193 - dice_coef: 0.8193 - val_loss: -0.8177 - val_dice_coef: 0.8177\n",
      "Epoch 148/200\n",
      "8/8 [==============================] - 2s 312ms/step - loss: -0.8063 - dice_coef: 0.8063 - val_loss: -0.7966 - val_dice_coef: 0.7966\n",
      "Epoch 149/200\n",
      "8/8 [==============================] - 2s 310ms/step - loss: -0.8109 - dice_coef: 0.8109 - val_loss: -0.7957 - val_dice_coef: 0.7957\n",
      "Epoch 150/200\n",
      "8/8 [==============================] - 2s 310ms/step - loss: -0.8029 - dice_coef: 0.8029 - val_loss: -0.8139 - val_dice_coef: 0.8139\n",
      "Epoch 151/200\n",
      "8/8 [==============================] - 2s 310ms/step - loss: -0.8112 - dice_coef: 0.8112 - val_loss: -0.8112 - val_dice_coef: 0.8112\n",
      "Epoch 152/200\n",
      "8/8 [==============================] - 2s 311ms/step - loss: -0.8159 - dice_coef: 0.8159 - val_loss: -0.8205 - val_dice_coef: 0.8205\n",
      "Epoch 153/200\n",
      "8/8 [==============================] - 2s 310ms/step - loss: -0.8162 - dice_coef: 0.8162 - val_loss: -0.8213 - val_dice_coef: 0.8213\n",
      "Epoch 154/200\n",
      "8/8 [==============================] - 2s 311ms/step - loss: -0.8178 - dice_coef: 0.8178 - val_loss: -0.8216 - val_dice_coef: 0.8216\n",
      "Epoch 155/200\n",
      "8/8 [==============================] - 2s 309ms/step - loss: -0.7996 - dice_coef: 0.7996 - val_loss: -0.8142 - val_dice_coef: 0.8142\n",
      "Epoch 156/200\n",
      "8/8 [==============================] - 2s 310ms/step - loss: -0.7834 - dice_coef: 0.7834 - val_loss: -0.7732 - val_dice_coef: 0.7732\n",
      "Epoch 157/200\n",
      "8/8 [==============================] - 2s 309ms/step - loss: -0.7972 - dice_coef: 0.7972 - val_loss: -0.8101 - val_dice_coef: 0.8101\n",
      "Epoch 158/200\n",
      "8/8 [==============================] - 2s 309ms/step - loss: -0.8128 - dice_coef: 0.8128 - val_loss: -0.8213 - val_dice_coef: 0.8213\n",
      "Epoch 159/200\n",
      "8/8 [==============================] - 2s 310ms/step - loss: -0.8214 - dice_coef: 0.8214 - val_loss: -0.8233 - val_dice_coef: 0.8233\n",
      "Epoch 160/200\n",
      "8/8 [==============================] - 2s 310ms/step - loss: -0.8245 - dice_coef: 0.8245 - val_loss: -0.8256 - val_dice_coef: 0.8256\n",
      "Epoch 161/200\n",
      "8/8 [==============================] - 2s 310ms/step - loss: -0.8258 - dice_coef: 0.8258 - val_loss: -0.8244 - val_dice_coef: 0.8244\n",
      "Epoch 162/200\n",
      "8/8 [==============================] - 2s 310ms/step - loss: -0.8256 - dice_coef: 0.8256 - val_loss: -0.8264 - val_dice_coef: 0.8264\n",
      "Epoch 163/200\n",
      "8/8 [==============================] - 2s 310ms/step - loss: -0.8265 - dice_coef: 0.8265 - val_loss: -0.8265 - val_dice_coef: 0.8265\n",
      "Epoch 164/200\n",
      "8/8 [==============================] - 2s 310ms/step - loss: -0.8271 - dice_coef: 0.8271 - val_loss: -0.8274 - val_dice_coef: 0.8274\n",
      "Epoch 165/200\n",
      "8/8 [==============================] - 2s 310ms/step - loss: -0.8276 - dice_coef: 0.8276 - val_loss: -0.8277 - val_dice_coef: 0.8277\n",
      "Epoch 166/200\n",
      "8/8 [==============================] - 2s 310ms/step - loss: -0.8277 - dice_coef: 0.8277 - val_loss: -0.8278 - val_dice_coef: 0.8278\n",
      "Epoch 167/200\n",
      "8/8 [==============================] - 2s 310ms/step - loss: -0.8278 - dice_coef: 0.8278 - val_loss: -0.8278 - val_dice_coef: 0.8278\n",
      "Epoch 168/200\n",
      "8/8 [==============================] - 2s 310ms/step - loss: -0.8278 - dice_coef: 0.8278 - val_loss: -0.8278 - val_dice_coef: 0.8278\n",
      "Epoch 169/200\n",
      "8/8 [==============================] - 2s 310ms/step - loss: -0.8278 - dice_coef: 0.8278 - val_loss: -0.8278 - val_dice_coef: 0.8278\n",
      "Epoch 170/200\n",
      "8/8 [==============================] - 2s 309ms/step - loss: -0.8278 - dice_coef: 0.8278 - val_loss: -0.8278 - val_dice_coef: 0.8278\n",
      "Epoch 171/200\n",
      "8/8 [==============================] - 2s 310ms/step - loss: -0.8278 - dice_coef: 0.8278 - val_loss: -0.8278 - val_dice_coef: 0.8278\n",
      "Epoch 172/200\n",
      "8/8 [==============================] - 2s 309ms/step - loss: -0.8278 - dice_coef: 0.8278 - val_loss: -0.8278 - val_dice_coef: 0.8278\n"
     ]
    },
    {
     "name": "stdout",
     "output_type": "stream",
     "text": [
      "Epoch 173/200\n",
      "8/8 [==============================] - 2s 308ms/step - loss: -0.8278 - dice_coef: 0.8278 - val_loss: -0.8278 - val_dice_coef: 0.8278\n",
      "Epoch 174/200\n",
      "8/8 [==============================] - 2s 310ms/step - loss: -0.8278 - dice_coef: 0.8278 - val_loss: -0.8278 - val_dice_coef: 0.8278\n",
      "Epoch 175/200\n",
      "8/8 [==============================] - 2s 309ms/step - loss: -0.8278 - dice_coef: 0.8278 - val_loss: -0.8279 - val_dice_coef: 0.8279\n",
      "Epoch 176/200\n",
      "8/8 [==============================] - 2s 309ms/step - loss: -0.8279 - dice_coef: 0.8279 - val_loss: -0.8279 - val_dice_coef: 0.8279\n",
      "Epoch 177/200\n",
      "8/8 [==============================] - 2s 309ms/step - loss: -0.8279 - dice_coef: 0.8279 - val_loss: -0.8279 - val_dice_coef: 0.8279\n",
      "Epoch 178/200\n",
      "8/8 [==============================] - 2s 312ms/step - loss: -0.8279 - dice_coef: 0.8279 - val_loss: -0.8279 - val_dice_coef: 0.8279\n",
      "Epoch 179/200\n",
      "8/8 [==============================] - 2s 310ms/step - loss: -0.8279 - dice_coef: 0.8279 - val_loss: -0.8279 - val_dice_coef: 0.8279\n",
      "Epoch 180/200\n",
      "8/8 [==============================] - 2s 310ms/step - loss: -0.8279 - dice_coef: 0.8279 - val_loss: -0.8279 - val_dice_coef: 0.8279\n",
      "Epoch 181/200\n",
      "8/8 [==============================] - 2s 310ms/step - loss: -0.8279 - dice_coef: 0.8279 - val_loss: -0.8279 - val_dice_coef: 0.8279\n",
      "Epoch 182/200\n",
      "8/8 [==============================] - 2s 310ms/step - loss: -0.8279 - dice_coef: 0.8279 - val_loss: -0.8279 - val_dice_coef: 0.8279\n",
      "Epoch 183/200\n",
      "8/8 [==============================] - 2s 311ms/step - loss: -0.8279 - dice_coef: 0.8279 - val_loss: -0.8279 - val_dice_coef: 0.8279\n",
      "Epoch 184/200\n",
      "8/8 [==============================] - 2s 310ms/step - loss: -0.8279 - dice_coef: 0.8279 - val_loss: -0.8279 - val_dice_coef: 0.8279\n",
      "Epoch 185/200\n",
      "8/8 [==============================] - 2s 310ms/step - loss: -0.8281 - dice_coef: 0.8281 - val_loss: -0.8284 - val_dice_coef: 0.8284\n",
      "Epoch 186/200\n",
      "8/8 [==============================] - 2s 311ms/step - loss: -0.8285 - dice_coef: 0.8285 - val_loss: -0.8286 - val_dice_coef: 0.8286\n",
      "Epoch 187/200\n",
      "8/8 [==============================] - 2s 309ms/step - loss: -0.8286 - dice_coef: 0.8286 - val_loss: -0.8287 - val_dice_coef: 0.8287\n",
      "Epoch 188/200\n",
      "8/8 [==============================] - 2s 309ms/step - loss: -0.8287 - dice_coef: 0.8287 - val_loss: -0.8287 - val_dice_coef: 0.8287\n",
      "Epoch 189/200\n",
      "8/8 [==============================] - 2s 309ms/step - loss: -0.8287 - dice_coef: 0.8287 - val_loss: -0.8287 - val_dice_coef: 0.8287\n",
      "Epoch 190/200\n",
      "8/8 [==============================] - 2s 309ms/step - loss: -0.8287 - dice_coef: 0.8287 - val_loss: -0.8287 - val_dice_coef: 0.8287\n",
      "Epoch 191/200\n",
      "8/8 [==============================] - 2s 310ms/step - loss: -0.8287 - dice_coef: 0.8287 - val_loss: -0.8287 - val_dice_coef: 0.8287\n",
      "Epoch 192/200\n",
      "8/8 [==============================] - 2s 311ms/step - loss: -0.8287 - dice_coef: 0.8287 - val_loss: -0.8287 - val_dice_coef: 0.8287\n",
      "Epoch 193/200\n",
      "8/8 [==============================] - 2s 309ms/step - loss: -0.8287 - dice_coef: 0.8287 - val_loss: -0.8287 - val_dice_coef: 0.8287\n",
      "Epoch 194/200\n",
      "8/8 [==============================] - 2s 310ms/step - loss: -0.8289 - dice_coef: 0.8289 - val_loss: -0.8290 - val_dice_coef: 0.8290\n",
      "Epoch 195/200\n",
      "8/8 [==============================] - 2s 309ms/step - loss: -0.8291 - dice_coef: 0.8291 - val_loss: -0.8291 - val_dice_coef: 0.8291\n",
      "Epoch 196/200\n",
      "8/8 [==============================] - 2s 308ms/step - loss: -0.8291 - dice_coef: 0.8291 - val_loss: -0.8291 - val_dice_coef: 0.8291\n",
      "Epoch 197/200\n",
      "8/8 [==============================] - 2s 309ms/step - loss: -0.8291 - dice_coef: 0.8291 - val_loss: -0.8291 - val_dice_coef: 0.8291\n",
      "Epoch 198/200\n",
      "8/8 [==============================] - 2s 308ms/step - loss: -0.8291 - dice_coef: 0.8291 - val_loss: -0.8291 - val_dice_coef: 0.8291\n",
      "Epoch 199/200\n",
      "8/8 [==============================] - 2s 309ms/step - loss: -0.8291 - dice_coef: 0.8291 - val_loss: -0.8291 - val_dice_coef: 0.8291\n",
      "Epoch 200/200\n",
      "8/8 [==============================] - 2s 309ms/step - loss: -0.8291 - dice_coef: 0.8291 - val_loss: -0.8291 - val_dice_coef: 0.8291\n",
      "------------------------------\n",
      "Training finished\n",
      "------------------------------\n",
      "1/1 [==============================] - 0s 136ms/step\n"
     ]
    }
   ],
   "source": [
    "train()"
   ]
  },
  {
   "cell_type": "code",
   "execution_count": 9,
   "metadata": {},
   "outputs": [
    {
     "data": {
      "text/plain": [
       "(1, 32, 64, 64, 1)"
      ]
     },
     "execution_count": 9,
     "metadata": {},
     "output_type": "execute_result"
    }
   ],
   "source": [
    "a = np.load('a.npz')['arr_0']\n",
    "a = np.transpose(a)\n",
    "a = np.resize(a, (32,64,64))\n",
    "A = np.array([a])\n",
    "imgs_train = np.expand_dims(A, axis=4)\n",
    "imgs_test = imgs_train.astype('float32')\n",
    "\n",
    "imgs_test.shape"
   ]
  },
  {
   "cell_type": "code",
   "execution_count": 10,
   "metadata": {},
   "outputs": [],
   "source": [
    "a = np.load('a.npz')['arr_0']\n",
    "    \n",
    "a = np.transpose(a)\n",
    "\n",
    "a = deform(a, img_depth/a.shape[0], axis=0)\n",
    "a = deform(a, img_rows/a.shape[1], axis=1)\n",
    "a = deform(a, img_cols/a.shape[2], axis=2)"
   ]
  },
  {
   "cell_type": "code",
   "execution_count": 11,
   "metadata": {},
   "outputs": [],
   "source": [
    "b = np.load('b.npz')['arr_0']\n",
    "\n",
    "b = np.transpose(b)\n",
    "\n",
    "b = deform(b, img_depth/b.shape[0], axis=0)\n",
    "b = deform(b, img_rows/b.shape[1], axis=1)\n",
    "b = deform(b, img_cols/b.shape[2], axis=2)"
   ]
  },
  {
   "cell_type": "code",
   "execution_count": 12,
   "metadata": {},
   "outputs": [
    {
     "name": "stdout",
     "output_type": "stream",
     "text": [
      "(32, 64, 64) (32, 64, 64)\n"
     ]
    }
   ],
   "source": [
    "print(a.shape, b.shape)"
   ]
  },
  {
   "cell_type": "code",
   "execution_count": 13,
   "metadata": {},
   "outputs": [],
   "source": [
    "os.chdir('test_mask_npy')"
   ]
  },
  {
   "cell_type": "code",
   "execution_count": 14,
   "metadata": {},
   "outputs": [
    {
     "data": {
      "text/plain": [
       "(1, 32, 64, 64, 1)"
      ]
     },
     "execution_count": 14,
     "metadata": {},
     "output_type": "execute_result"
    }
   ],
   "source": [
    "c = np.load('3D-Unet_mask.npy')\n",
    "c.shape"
   ]
  },
  {
   "cell_type": "code",
   "execution_count": 15,
   "metadata": {},
   "outputs": [
    {
     "data": {
      "text/plain": [
       "(32, 64, 64)"
      ]
     },
     "execution_count": 15,
     "metadata": {},
     "output_type": "execute_result"
    }
   ],
   "source": [
    "c = c[0,:,:,:,0]\n",
    "c.shape"
   ]
  },
  {
   "cell_type": "code",
   "execution_count": 16,
   "metadata": {},
   "outputs": [
    {
     "data": {
      "text/plain": [
       "<matplotlib.colorbar.Colorbar at 0x29b40b1a048>"
      ]
     },
     "execution_count": 16,
     "metadata": {},
     "output_type": "execute_result"
    },
    {
     "data": {
      "image/png": "[encoded data removed]",
      "text/plain": [
       "<Figure size 432x288 with 2 Axes>"
      ]
     },
     "metadata": {
      "needs_background": "light"
     },
     "output_type": "display_data"
    }
   ],
   "source": [
    "# input image\n",
    "plt.imshow(a[15,:,:])\n",
    "plt.colorbar()"
   ]
  },
  {
   "cell_type": "code",
   "execution_count": 17,
   "metadata": {},
   "outputs": [
    {
     "data": {
      "text/plain": [
       "<matplotlib.colorbar.Colorbar at 0x29b41070988>"
      ]
     },
     "execution_count": 17,
     "metadata": {},
     "output_type": "execute_result"
    },
    {
     "data": {
      "image/png": "[encoded data removed]",
      "text/plain": [
       "<Figure size 432x288 with 2 Axes>"
      ]
     },
     "metadata": {
      "needs_background": "light"
     },
     "output_type": "display_data"
    }
   ],
   "source": [
    "# ground truth\n",
    "plt.imshow(b[15,:,:])\n",
    "plt.colorbar()"
   ]
  },
  {
   "cell_type": "code",
   "execution_count": 18,
   "metadata": {},
   "outputs": [
    {
     "data": {
      "text/plain": [
       "<matplotlib.colorbar.Colorbar at 0x29b4112a708>"
      ]
     },
     "execution_count": 18,
     "metadata": {},
     "output_type": "execute_result"
    },
    {
     "data": {
      "image/png": "[encoded data removed]",
      "text/plain": [
       "<Figure size 432x288 with 2 Axes>"
      ]
     },
     "metadata": {
      "needs_background": "light"
     },
     "output_type": "display_data"
    }
   ],
   "source": [
    "# output mask\n",
    "plt.imshow(c[15,:,:])\n",
    "plt.colorbar()"
   ]
  },
  {
   "cell_type": "code",
   "execution_count": 19,
   "metadata": {},
   "outputs": [
    {
     "data": {
      "image/png": "[encoded data removed]",
      "text/plain": [
       "<Figure size 432x288 with 1 Axes>"
      ]
     },
     "metadata": {
      "needs_background": "light"
     },
     "output_type": "display_data"
    }
   ],
   "source": [
    "from mpl_toolkits import mplot3d\n",
    "%matplotlib inline\n",
    "import numpy as np\n",
    "import matplotlib.pyplot as plt\n",
    "\n",
    "z,x,y = b.nonzero()\n",
    "\n",
    "fig = plt.figure()\n",
    "ax = fig.add_subplot(111, projection='3d')\n",
    "ax.scatter(x, y, -z, zdir='z', c= 'black')"
   ]
  },
  {
   "cell_type": "code",
   "execution_count": 20,
   "metadata": {},
   "outputs": [
    {
     "data": {
      "image/png": "[encoded data removed]",
      "text/plain": [
       "<Figure size 432x288 with 1 Axes>"
      ]
     },
     "metadata": {
      "needs_background": "light"
     },
     "output_type": "display_data"
    }
   ],
   "source": [
    "z,x,y = c.nonzero()\n",
    "\n",
    "fig = plt.figure()\n",
    "ax = fig.add_subplot(111, projection='3d')\n",
    "ax.scatter(x, y, -z, zdir='z', c= 'black')"
   ]
  },
  {
   "cell_type": "code",
   "execution_count": null,
   "metadata": {},
   "outputs": [],
   "source": []
  }
 ],
 "metadata": {
  "kernelspec": {
   "display_name": "gputest",
   "language": "python",
   "name": "gputest"
  },
  "language_info": {
   "codemirror_mode": {
    "name": "ipython",
    "version": 3
   },
   "file_extension": ".py",
   "mimetype": "text/x-python",
   "name": "python",
   "nbconvert_exporter": "python",
   "pygments_lexer": "ipython3",
   "version": "3.7.5"
  }
 },
 "nbformat": 4,
 "nbformat_minor": 2
}
