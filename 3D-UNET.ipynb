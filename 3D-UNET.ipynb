{
 "cells": [
  {
   "cell_type": "code",
   "execution_count": 1,
   "metadata": {},
   "outputs": [],
   "source": [
    "import matplotlib.pyplot as plt\n",
    "import os\n",
    "import glob\n",
    "import numpy as np\n",
    "from skimage.transform import resize\n",
    "from skimage.io import imsave\n",
    "from skimage.io import imread"
   ]
  },
  {
   "cell_type": "code",
   "execution_count": 2,
   "metadata": {},
   "outputs": [],
   "source": [
    "import tensorflow as tf"
   ]
  },
  {
   "cell_type": "code",
   "execution_count": 3,
   "metadata": {},
   "outputs": [
    {
     "name": "stderr",
     "output_type": "stream",
     "text": [
      "Using TensorFlow backend.\n"
     ]
    }
   ],
   "source": [
    "from keras.models import Model\n",
    "from keras.layers import Input, concatenate, Conv3D, MaxPooling3D, Conv3DTranspose, AveragePooling3D, ZeroPadding3D\n",
    "from keras.optimizers import RMSprop, Adam, SGD\n",
    "from keras.callbacks import ModelCheckpoint, CSVLogger\n",
    "from keras import backend as K\n",
    "from keras.regularizers import l2\n",
    "from keras.utils import plot_model"
   ]
  },
  {
   "cell_type": "code",
   "execution_count": 4,
   "metadata": {},
   "outputs": [],
   "source": [
    "def deform(array, factor, axis):\n",
    "    stretched = np.repeat(array, np.ceil(factor), axis=axis)\n",
    "    indices = np.linspace(0, stretched.shape[axis] - 1, int(array.shape[axis] * factor))\n",
    "    indices = np.rint(indices).astype(int)\n",
    "    return np.take(stretched, indices, axis=axis)"
   ]
  },
  {
   "cell_type": "code",
   "execution_count": 5,
   "metadata": {},
   "outputs": [],
   "source": [
    "data_path = './'\n",
    "project_name = '3D-Unet'\n",
    "img_depth = 32\n",
    "img_rows = 64\n",
    "img_cols = 64\n",
    "smooth = 1."
   ]
  },
  {
   "cell_type": "code",
   "execution_count": 6,
   "metadata": {},
   "outputs": [],
   "source": [
    "K.set_image_data_format('channels_last')"
   ]
  },
  {
   "cell_type": "code",
   "execution_count": 7,
   "metadata": {},
   "outputs": [],
   "source": [
    "def dice_coef(y_true, y_pred):\n",
    "    y_true_f = K.flatten(y_true)\n",
    "    y_pred_f = K.flatten(y_pred)\n",
    "    intersection = K.sum(y_true_f * y_pred_f)\n",
    "    return (2. * intersection + smooth) / (K.sum(y_true_f) + K.sum(y_pred_f) + smooth)\n",
    "\n",
    "\n",
    "def dice_coef_loss(y_true, y_pred):\n",
    "    return -dice_coef(y_true, y_pred)\n",
    "\n",
    "\n",
    "def get_unet():\n",
    "    inputs = Input((img_depth, img_rows, img_cols, 1))\n",
    "    conv1 = Conv3D(32, (3, 3, 3), activation='relu', padding='same')(inputs)\n",
    "    conv1 = Conv3D(32, (3, 3, 3), activation='relu', padding='same')(conv1)\n",
    "    pool1 = MaxPooling3D(pool_size=(2, 2, 2))(conv1)\n",
    "\n",
    "    conv2 = Conv3D(64, (3, 3, 3), activation='relu', padding='same')(pool1)\n",
    "    conv2 = Conv3D(64, (3, 3, 3), activation='relu', padding='same')(conv2)\n",
    "    pool2 = MaxPooling3D(pool_size=(2, 2, 2))(conv2)\n",
    "\n",
    "    conv3 = Conv3D(128, (3, 3, 3), activation='relu', padding='same')(pool2)\n",
    "    conv3 = Conv3D(128, (3, 3, 3), activation='relu', padding='same')(conv3)\n",
    "    pool3 = MaxPooling3D(pool_size=(2, 2, 2))(conv3)\n",
    "\n",
    "    conv4 = Conv3D(256, (3, 3, 3), activation='relu', padding='same')(pool3)\n",
    "    conv4 = Conv3D(256, (3, 3, 3), activation='relu', padding='same')(conv4)\n",
    "    pool4 = MaxPooling3D(pool_size=(2, 2, 2))(conv4)\n",
    "\n",
    "    conv5 = Conv3D(512, (3, 3, 3), activation='relu', padding='same')(pool4)\n",
    "    conv5 = Conv3D(512, (3, 3, 3), activation='relu', padding='same')(conv5)\n",
    "\n",
    "    up6 = concatenate([Conv3DTranspose(256, (2, 2, 2), strides=(2, 2, 2), padding='same')(conv5), conv4], axis=4)\n",
    "    conv6 = Conv3D(256, (3, 3, 3), activation='relu', padding='same')(up6)\n",
    "    conv6 = Conv3D(256, (3, 3, 3), activation='relu', padding='same')(conv6)\n",
    "\n",
    "    up7 = concatenate([Conv3DTranspose(128, (2, 2, 2), strides=(2, 2, 2), padding='same')(conv6), conv3], axis=4)\n",
    "    conv7 = Conv3D(128, (3, 3, 3), activation='relu', padding='same')(up7)\n",
    "    conv7 = Conv3D(128, (3, 3, 3), activation='relu', padding='same')(conv7)\n",
    "\n",
    "    up8 = concatenate([Conv3DTranspose(64, (2, 2, 2), strides=(2, 2, 2), padding='same')(conv7), conv2], axis=4)\n",
    "    conv8 = Conv3D(64, (3, 3, 3), activation='relu', padding='same')(up8)\n",
    "    conv8 = Conv3D(64, (3, 3, 3), activation='relu', padding='same')(conv8)\n",
    "\n",
    "    up9 = concatenate([Conv3DTranspose(32, (2, 2, 2), strides=(2, 2, 2), padding='same')(conv8), conv1], axis=4)\n",
    "    conv9 = Conv3D(32, (3, 3, 3), activation='relu', padding='same')(up9)\n",
    "    conv9 = Conv3D(32, (3, 3, 3), activation='relu', padding='same')(conv9)\n",
    "\n",
    "    conv10 = Conv3D(1, (1, 1, 1), activation='sigmoid')(conv9)\n",
    "\n",
    "\n",
    "    model = Model(inputs=[inputs], outputs=[conv10])\n",
    "\n",
    "    model.summary()\n",
    "    #plot_model(model, to_file='model.png')\n",
    "\n",
    "    model.compile(optimizer=Adam(lr=1e-5, beta_1=0.9, beta_2=0.999, epsilon=1e-08, decay=0.000000199), loss='binary_crossentropy', metrics=['accuracy'])\n",
    "\n",
    "    return model"
   ]
  },
  {
   "cell_type": "code",
   "execution_count": 8,
   "metadata": {},
   "outputs": [],
   "source": [
    "def train():\n",
    "    print('-'*30)\n",
    "    print('Loading and preprocessing train data...')\n",
    "    print('-'*30)\n",
    "    \n",
    "    a = np.load('a.npz')['arr_0']\n",
    "    b = np.load('b.npz')['arr_0']\n",
    "    \n",
    "    a = np.transpose(a)\n",
    "    b = np.transpose(b)\n",
    "    \n",
    "    a = deform(a, img_depth/a.shape[0], axis=0)\n",
    "    a = deform(a, img_rows/a.shape[1], axis=1)\n",
    "    a = deform(a, img_cols/a.shape[2], axis=2)\n",
    "    \n",
    "    b = deform(b, img_depth/b.shape[0], axis=0)\n",
    "    b = deform(b, img_rows/b.shape[1], axis=1)\n",
    "    b = deform(b, img_cols/b.shape[2], axis=2)\n",
    "\n",
    "    A = np.array([a,a,a,a])\n",
    "    B = np.array([b,b,b,b])\n",
    "    \n",
    "    imgs_train = np.expand_dims(A, axis=4)\n",
    "    imgs_mask_train = np.expand_dims(B, axis=4)\n",
    "    \n",
    "    imgs_mask_train = imgs_mask_train.astype('float32')\n",
    "    imgs_train = imgs_train.astype('float32')\n",
    "\n",
    "    print('-'*30)\n",
    "    print('Creating and compiling model...')\n",
    "    print('-'*30)\n",
    "    model = get_unet()\n",
    "    weight_dir = 'weights'\n",
    "    if not os.path.exists(weight_dir):\n",
    "        os.mkdir(weight_dir)\n",
    "    model_checkpoint = ModelCheckpoint(os.path.join(weight_dir, project_name + '.h5'), monitor='val_loss', save_best_only=True)\n",
    "\n",
    "    log_dir = 'logs'\n",
    "    if not os.path.exists(log_dir):\n",
    "        os.mkdir(log_dir)\n",
    "    csv_logger = CSVLogger(os.path.join(log_dir,  project_name + '.txt'), separator=',', append=False)\n",
    "\n",
    "    print('-'*30)\n",
    "    print('Fitting model...')\n",
    "    print('-'*30)\n",
    "\n",
    "    model.fit(imgs_train, imgs_mask_train, batch_size=1, epochs=50, verbose=1, shuffle=True, validation_split=0.10, callbacks=[model_checkpoint, csv_logger])\n",
    "\n",
    "    print('-'*30)\n",
    "    print('Training finished')\n",
    "    print('-'*30)"
   ]
  },
  {
   "cell_type": "code",
   "execution_count": 9,
   "metadata": {},
   "outputs": [],
   "source": [
    "def predict():\n",
    "\n",
    "\n",
    "\n",
    "    print('-'*30)\n",
    "    print('Loading and preprocessing test data...')\n",
    "    print('-'*30)\n",
    "    \n",
    "\n",
    "    a = np.load('a.npz')['arr_0']\n",
    "    a = np.transpose(a)\n",
    "    a = np.resize(a, (32,64,64))\n",
    "    A = np.array([a,a,a,a])\n",
    "    imgs_train = np.expand_dims(A, axis=4)\n",
    "    imgs_test = imgs_train.astype('float32')\n",
    "    \n",
    "\n",
    "    print('-'*30)\n",
    "    print('Loading saved weights...')\n",
    "    print('-'*30)\n",
    "\n",
    "    model = get_unet()\n",
    "    weight_dir = 'weights'\n",
    "    if not os.path.exists(weight_dir):\n",
    "        os.mkdir(weight_dir)\n",
    "    model.load_weights(os.path.join(weight_dir, project_name + '.h5'))\n",
    "\n",
    "    print('-'*30)\n",
    "    print('Predicting masks on test data...')\n",
    "    print('-'*30)\n",
    "\n",
    "    imgs_mask_test = model.predict(imgs_test, batch_size=1, verbose=1)\n",
    "\n",
    "    npy_mask_dir = 'test_mask_npy'\n",
    "    if not os.path.exists(npy_mask_dir):\n",
    "        os.mkdir(npy_mask_dir)\n",
    "\n",
    "    np.save(os.path.join(npy_mask_dir, project_name + '_mask.npy'), imgs_mask_test)\n",
    "\n",
    "    print('-' * 30)\n",
    "    print('Saving predicted masks to files...')\n",
    "    print('-' * 30)\n",
    "\n",
    "    print('-'*30)\n",
    "    print('Prediction finished')\n",
    "    print('-'*30)"
   ]
  },
  {
   "cell_type": "code",
   "execution_count": 10,
   "metadata": {
    "scrolled": false
   },
   "outputs": [
    {
     "name": "stdout",
     "output_type": "stream",
     "text": [
      "------------------------------\n",
      "Loading and preprocessing train data...\n",
      "------------------------------\n",
      "------------------------------\n",
      "Creating and compiling model...\n",
      "------------------------------\n",
      "Model: \"model_1\"\n",
      "__________________________________________________________________________________________________\n",
      "Layer (type)                    Output Shape         Param #     Connected to                     \n",
      "==================================================================================================\n",
      "input_1 (InputLayer)            (None, 32, 64, 64, 1 0                                            \n",
      "__________________________________________________________________________________________________\n",
      "conv3d_1 (Conv3D)               (None, 32, 64, 64, 3 896         input_1[0][0]                    \n",
      "__________________________________________________________________________________________________\n",
      "conv3d_2 (Conv3D)               (None, 32, 64, 64, 3 27680       conv3d_1[0][0]                   \n",
      "__________________________________________________________________________________________________\n",
      "max_pooling3d_1 (MaxPooling3D)  (None, 16, 32, 32, 3 0           conv3d_2[0][0]                   \n",
      "__________________________________________________________________________________________________\n",
      "conv3d_3 (Conv3D)               (None, 16, 32, 32, 6 55360       max_pooling3d_1[0][0]            \n",
      "__________________________________________________________________________________________________\n",
      "conv3d_4 (Conv3D)               (None, 16, 32, 32, 6 110656      conv3d_3[0][0]                   \n",
      "__________________________________________________________________________________________________\n",
      "max_pooling3d_2 (MaxPooling3D)  (None, 8, 16, 16, 64 0           conv3d_4[0][0]                   \n",
      "__________________________________________________________________________________________________\n",
      "conv3d_5 (Conv3D)               (None, 8, 16, 16, 12 221312      max_pooling3d_2[0][0]            \n",
      "__________________________________________________________________________________________________\n",
      "conv3d_6 (Conv3D)               (None, 8, 16, 16, 12 442496      conv3d_5[0][0]                   \n",
      "__________________________________________________________________________________________________\n",
      "max_pooling3d_3 (MaxPooling3D)  (None, 4, 8, 8, 128) 0           conv3d_6[0][0]                   \n",
      "__________________________________________________________________________________________________\n",
      "conv3d_7 (Conv3D)               (None, 4, 8, 8, 256) 884992      max_pooling3d_3[0][0]            \n",
      "__________________________________________________________________________________________________\n",
      "conv3d_8 (Conv3D)               (None, 4, 8, 8, 256) 1769728     conv3d_7[0][0]                   \n",
      "__________________________________________________________________________________________________\n",
      "max_pooling3d_4 (MaxPooling3D)  (None, 2, 4, 4, 256) 0           conv3d_8[0][0]                   \n",
      "__________________________________________________________________________________________________\n",
      "conv3d_9 (Conv3D)               (None, 2, 4, 4, 512) 3539456     max_pooling3d_4[0][0]            \n",
      "__________________________________________________________________________________________________\n",
      "conv3d_10 (Conv3D)              (None, 2, 4, 4, 512) 7078400     conv3d_9[0][0]                   \n",
      "__________________________________________________________________________________________________\n",
      "conv3d_transpose_1 (Conv3DTrans (None, 4, 8, 8, 256) 1048832     conv3d_10[0][0]                  \n",
      "__________________________________________________________________________________________________\n",
      "concatenate_1 (Concatenate)     (None, 4, 8, 8, 512) 0           conv3d_transpose_1[0][0]         \n",
      "                                                                 conv3d_8[0][0]                   \n",
      "__________________________________________________________________________________________________\n",
      "conv3d_11 (Conv3D)              (None, 4, 8, 8, 256) 3539200     concatenate_1[0][0]              \n",
      "__________________________________________________________________________________________________\n",
      "conv3d_12 (Conv3D)              (None, 4, 8, 8, 256) 1769728     conv3d_11[0][0]                  \n",
      "__________________________________________________________________________________________________\n",
      "conv3d_transpose_2 (Conv3DTrans (None, 8, 16, 16, 12 262272      conv3d_12[0][0]                  \n",
      "__________________________________________________________________________________________________\n",
      "concatenate_2 (Concatenate)     (None, 8, 16, 16, 25 0           conv3d_transpose_2[0][0]         \n",
      "                                                                 conv3d_6[0][0]                   \n",
      "__________________________________________________________________________________________________\n",
      "conv3d_13 (Conv3D)              (None, 8, 16, 16, 12 884864      concatenate_2[0][0]              \n",
      "__________________________________________________________________________________________________\n",
      "conv3d_14 (Conv3D)              (None, 8, 16, 16, 12 442496      conv3d_13[0][0]                  \n",
      "__________________________________________________________________________________________________\n",
      "conv3d_transpose_3 (Conv3DTrans (None, 16, 32, 32, 6 65600       conv3d_14[0][0]                  \n",
      "__________________________________________________________________________________________________\n",
      "concatenate_3 (Concatenate)     (None, 16, 32, 32, 1 0           conv3d_transpose_3[0][0]         \n",
      "                                                                 conv3d_4[0][0]                   \n",
      "__________________________________________________________________________________________________\n",
      "conv3d_15 (Conv3D)              (None, 16, 32, 32, 6 221248      concatenate_3[0][0]              \n",
      "__________________________________________________________________________________________________\n",
      "conv3d_16 (Conv3D)              (None, 16, 32, 32, 6 110656      conv3d_15[0][0]                  \n",
      "__________________________________________________________________________________________________\n",
      "conv3d_transpose_4 (Conv3DTrans (None, 32, 64, 64, 3 16416       conv3d_16[0][0]                  \n",
      "__________________________________________________________________________________________________\n",
      "concatenate_4 (Concatenate)     (None, 32, 64, 64, 6 0           conv3d_transpose_4[0][0]         \n",
      "                                                                 conv3d_2[0][0]                   \n",
      "__________________________________________________________________________________________________\n",
      "conv3d_17 (Conv3D)              (None, 32, 64, 64, 3 55328       concatenate_4[0][0]              \n",
      "__________________________________________________________________________________________________\n",
      "conv3d_18 (Conv3D)              (None, 32, 64, 64, 3 27680       conv3d_17[0][0]                  \n",
      "__________________________________________________________________________________________________\n",
      "conv3d_19 (Conv3D)              (None, 32, 64, 64, 1 33          conv3d_18[0][0]                  \n",
      "==================================================================================================\n",
      "Total params: 22,575,329\n",
      "Trainable params: 22,575,329\n",
      "Non-trainable params: 0\n",
      "__________________________________________________________________________________________________\n",
      "------------------------------\n",
      "Fitting model...\n",
      "------------------------------\n",
      "Train on 3 samples, validate on 1 samples\n",
      "Epoch 1/50\n",
      "3/3 [==============================] - 5s 2s/step - loss: 0.6936 - accuracy: 0.0665 - val_loss: 0.6934 - val_accuracy: 0.1522\n",
      "Epoch 2/50\n",
      "3/3 [==============================] - 1s 317ms/step - loss: 0.6933 - accuracy: 0.2984 - val_loss: 0.6931 - val_accuracy: 0.6694\n",
      "Epoch 3/50\n",
      "3/3 [==============================] - 1s 315ms/step - loss: 0.6930 - accuracy: 0.7804 - val_loss: 0.6928 - val_accuracy: 0.9045\n",
      "Epoch 4/50\n",
      "3/3 [==============================] - 1s 315ms/step - loss: 0.6927 - accuracy: 0.9211 - val_loss: 0.6925 - val_accuracy: 0.9461\n",
      "Epoch 5/50\n",
      "3/3 [==============================] - 1s 316ms/step - loss: 0.6924 - accuracy: 0.9562 - val_loss: 0.6923 - val_accuracy: 0.9729\n"
     ]
    },
    {
     "name": "stdout",
     "output_type": "stream",
     "text": [
      "Epoch 6/50\n",
      "3/3 [==============================] - 1s 315ms/step - loss: 0.6922 - accuracy: 0.9774 - val_loss: 0.6920 - val_accuracy: 0.9835\n",
      "Epoch 7/50\n",
      "3/3 [==============================] - 1s 317ms/step - loss: 0.6919 - accuracy: 0.9851 - val_loss: 0.6917 - val_accuracy: 0.9876\n",
      "Epoch 8/50\n",
      "3/3 [==============================] - 1s 315ms/step - loss: 0.6916 - accuracy: 0.9883 - val_loss: 0.6914 - val_accuracy: 0.9896\n",
      "Epoch 9/50\n",
      "3/3 [==============================] - 1s 318ms/step - loss: 0.6914 - accuracy: 0.9899 - val_loss: 0.6912 - val_accuracy: 0.9905\n",
      "Epoch 10/50\n",
      "3/3 [==============================] - 1s 319ms/step - loss: 0.6911 - accuracy: 0.9906 - val_loss: 0.6909 - val_accuracy: 0.9907\n",
      "Epoch 11/50\n",
      "3/3 [==============================] - 1s 318ms/step - loss: 0.6908 - accuracy: 0.9907 - val_loss: 0.6906 - val_accuracy: 0.9908\n",
      "Epoch 12/50\n",
      "3/3 [==============================] - 1s 316ms/step - loss: 0.6905 - accuracy: 0.9909 - val_loss: 0.6903 - val_accuracy: 0.9909\n",
      "Epoch 13/50\n",
      "3/3 [==============================] - 1s 316ms/step - loss: 0.6902 - accuracy: 0.9910 - val_loss: 0.6900 - val_accuracy: 0.9910\n",
      "Epoch 14/50\n",
      "3/3 [==============================] - 1s 317ms/step - loss: 0.6898 - accuracy: 0.9910 - val_loss: 0.6896 - val_accuracy: 0.9910\n",
      "Epoch 15/50\n",
      "3/3 [==============================] - 1s 318ms/step - loss: 0.6894 - accuracy: 0.9910 - val_loss: 0.6892 - val_accuracy: 0.9911\n",
      "Epoch 16/50\n",
      "3/3 [==============================] - 1s 317ms/step - loss: 0.6890 - accuracy: 0.9911 - val_loss: 0.6887 - val_accuracy: 0.9911\n",
      "Epoch 17/50\n",
      "3/3 [==============================] - 1s 316ms/step - loss: 0.6885 - accuracy: 0.9911 - val_loss: 0.6881 - val_accuracy: 0.9911\n",
      "Epoch 18/50\n",
      "3/3 [==============================] - 1s 322ms/step - loss: 0.6879 - accuracy: 0.9911 - val_loss: 0.6874 - val_accuracy: 0.9911\n",
      "Epoch 19/50\n",
      "3/3 [==============================] - 1s 319ms/step - loss: 0.6871 - accuracy: 0.9911 - val_loss: 0.6865 - val_accuracy: 0.9911\n",
      "Epoch 20/50\n",
      "3/3 [==============================] - 1s 323ms/step - loss: 0.6862 - accuracy: 0.9911 - val_loss: 0.6854 - val_accuracy: 0.9911\n",
      "Epoch 21/50\n",
      "3/3 [==============================] - 1s 321ms/step - loss: 0.6850 - accuracy: 0.9911 - val_loss: 0.6840 - val_accuracy: 0.9911\n",
      "Epoch 22/50\n",
      "3/3 [==============================] - 1s 320ms/step - loss: 0.6834 - accuracy: 0.9911 - val_loss: 0.6820 - val_accuracy: 0.9911\n",
      "Epoch 23/50\n",
      "3/3 [==============================] - 1s 324ms/step - loss: 0.6811 - accuracy: 0.9911 - val_loss: 0.6791 - val_accuracy: 0.9911\n",
      "Epoch 24/50\n",
      "3/3 [==============================] - 1s 322ms/step - loss: 0.6778 - accuracy: 0.9911 - val_loss: 0.6748 - val_accuracy: 0.9911\n",
      "Epoch 25/50\n",
      "3/3 [==============================] - 1s 319ms/step - loss: 0.6727 - accuracy: 0.9911 - val_loss: 0.6677 - val_accuracy: 0.9911\n",
      "Epoch 26/50\n",
      "3/3 [==============================] - 1s 321ms/step - loss: 0.6641 - accuracy: 0.9911 - val_loss: 0.6554 - val_accuracy: 0.9911\n",
      "Epoch 27/50\n",
      "3/3 [==============================] - 1s 318ms/step - loss: 0.6489 - accuracy: 0.9911 - val_loss: 0.6326 - val_accuracy: 0.9911\n",
      "Epoch 28/50\n",
      "3/3 [==============================] - 1s 322ms/step - loss: 0.6201 - accuracy: 0.9911 - val_loss: 0.5888 - val_accuracy: 0.9911\n",
      "Epoch 29/50\n",
      "3/3 [==============================] - 1s 325ms/step - loss: 0.5649 - accuracy: 0.9911 - val_loss: 0.5062 - val_accuracy: 0.9911\n",
      "Epoch 30/50\n",
      "3/3 [==============================] - 1s 320ms/step - loss: 0.4651 - accuracy: 0.9911 - val_loss: 0.3729 - val_accuracy: 0.9911\n",
      "Epoch 31/50\n",
      "3/3 [==============================] - 1s 321ms/step - loss: 0.3236 - accuracy: 0.9911 - val_loss: 0.2360 - val_accuracy: 0.9911\n",
      "Epoch 32/50\n",
      "3/3 [==============================] - 1s 320ms/step - loss: 0.2134 - accuracy: 0.9910 - val_loss: 0.1968 - val_accuracy: 0.9910\n",
      "Epoch 33/50\n",
      "3/3 [==============================] - 1s 322ms/step - loss: 0.2106 - accuracy: 0.9910 - val_loss: 0.2401 - val_accuracy: 0.9910\n",
      "Epoch 34/50\n",
      "3/3 [==============================] - 1s 324ms/step - loss: 0.2442 - accuracy: 0.9910 - val_loss: 0.2379 - val_accuracy: 0.9910\n",
      "Epoch 35/50\n",
      "3/3 [==============================] - 1s 323ms/step - loss: 0.2264 - accuracy: 0.9910 - val_loss: 0.2036 - val_accuracy: 0.9911\n",
      "Epoch 36/50\n",
      "3/3 [==============================] - 1s 322ms/step - loss: 0.1959 - accuracy: 0.9911 - val_loss: 0.1860 - val_accuracy: 0.9911\n",
      "Epoch 37/50\n",
      "3/3 [==============================] - 1s 322ms/step - loss: 0.1856 - accuracy: 0.9911 - val_loss: 0.1872 - val_accuracy: 0.9911\n",
      "Epoch 38/50\n",
      "3/3 [==============================] - 1s 321ms/step - loss: 0.1887 - accuracy: 0.9911 - val_loss: 0.1906 - val_accuracy: 0.9911\n",
      "Epoch 39/50\n",
      "3/3 [==============================] - 1s 322ms/step - loss: 0.1899 - accuracy: 0.9911 - val_loss: 0.1869 - val_accuracy: 0.9911\n",
      "Epoch 40/50\n",
      "3/3 [==============================] - 1s 326ms/step - loss: 0.1843 - accuracy: 0.9911 - val_loss: 0.1788 - val_accuracy: 0.9911\n",
      "Epoch 41/50\n",
      "3/3 [==============================] - 1s 323ms/step - loss: 0.1764 - accuracy: 0.9911 - val_loss: 0.1727 - val_accuracy: 0.9911\n",
      "Epoch 42/50\n",
      "3/3 [==============================] - 1s 322ms/step - loss: 0.1718 - accuracy: 0.9911 - val_loss: 0.1706 - val_accuracy: 0.9911\n",
      "Epoch 43/50\n",
      "3/3 [==============================] - 1s 324ms/step - loss: 0.1703 - accuracy: 0.9911 - val_loss: 0.1692 - val_accuracy: 0.9911\n",
      "Epoch 44/50\n",
      "3/3 [==============================] - 1s 321ms/step - loss: 0.1682 - accuracy: 0.9911 - val_loss: 0.1657 - val_accuracy: 0.9911\n",
      "Epoch 45/50\n",
      "3/3 [==============================] - 1s 323ms/step - loss: 0.1642 - accuracy: 0.9911 - val_loss: 0.1614 - val_accuracy: 0.9911\n",
      "Epoch 46/50\n",
      "3/3 [==============================] - 1s 324ms/step - loss: 0.1602 - accuracy: 0.9911 - val_loss: 0.1579 - val_accuracy: 0.9911\n",
      "Epoch 47/50\n",
      "3/3 [==============================] - 1s 324ms/step - loss: 0.1570 - accuracy: 0.9911 - val_loss: 0.1551 - val_accuracy: 0.9911\n",
      "Epoch 48/50\n",
      "3/3 [==============================] - 1s 324ms/step - loss: 0.1541 - accuracy: 0.9911 - val_loss: 0.1520 - val_accuracy: 0.9911\n",
      "Epoch 49/50\n",
      "3/3 [==============================] - 1s 322ms/step - loss: 0.1509 - accuracy: 0.9911 - val_loss: 0.1487 - val_accuracy: 0.9911\n",
      "Epoch 50/50\n",
      "3/3 [==============================] - 1s 320ms/step - loss: 0.1476 - accuracy: 0.9911 - val_loss: 0.1456 - val_accuracy: 0.9911\n",
      "------------------------------\n",
      "Training finished\n",
      "------------------------------\n"
     ]
    }
   ],
   "source": [
    "train()"
   ]
  },
  {
   "cell_type": "code",
   "execution_count": 11,
   "metadata": {},
   "outputs": [
    {
     "name": "stdout",
     "output_type": "stream",
     "text": [
      "------------------------------\n",
      "Loading and preprocessing test data...\n",
      "------------------------------\n",
      "------------------------------\n",
      "Loading saved weights...\n",
      "------------------------------\n",
      "Model: \"model_2\"\n",
      "__________________________________________________________________________________________________\n",
      "Layer (type)                    Output Shape         Param #     Connected to                     \n",
      "==================================================================================================\n",
      "input_2 (InputLayer)            (None, 32, 64, 64, 1 0                                            \n",
      "__________________________________________________________________________________________________\n",
      "conv3d_20 (Conv3D)              (None, 32, 64, 64, 3 896         input_2[0][0]                    \n",
      "__________________________________________________________________________________________________\n",
      "conv3d_21 (Conv3D)              (None, 32, 64, 64, 3 27680       conv3d_20[0][0]                  \n",
      "__________________________________________________________________________________________________\n",
      "max_pooling3d_5 (MaxPooling3D)  (None, 16, 32, 32, 3 0           conv3d_21[0][0]                  \n",
      "__________________________________________________________________________________________________\n",
      "conv3d_22 (Conv3D)              (None, 16, 32, 32, 6 55360       max_pooling3d_5[0][0]            \n",
      "__________________________________________________________________________________________________\n",
      "conv3d_23 (Conv3D)              (None, 16, 32, 32, 6 110656      conv3d_22[0][0]                  \n",
      "__________________________________________________________________________________________________\n",
      "max_pooling3d_6 (MaxPooling3D)  (None, 8, 16, 16, 64 0           conv3d_23[0][0]                  \n",
      "__________________________________________________________________________________________________\n",
      "conv3d_24 (Conv3D)              (None, 8, 16, 16, 12 221312      max_pooling3d_6[0][0]            \n",
      "__________________________________________________________________________________________________\n",
      "conv3d_25 (Conv3D)              (None, 8, 16, 16, 12 442496      conv3d_24[0][0]                  \n",
      "__________________________________________________________________________________________________\n",
      "max_pooling3d_7 (MaxPooling3D)  (None, 4, 8, 8, 128) 0           conv3d_25[0][0]                  \n",
      "__________________________________________________________________________________________________\n",
      "conv3d_26 (Conv3D)              (None, 4, 8, 8, 256) 884992      max_pooling3d_7[0][0]            \n",
      "__________________________________________________________________________________________________\n",
      "conv3d_27 (Conv3D)              (None, 4, 8, 8, 256) 1769728     conv3d_26[0][0]                  \n",
      "__________________________________________________________________________________________________\n",
      "max_pooling3d_8 (MaxPooling3D)  (None, 2, 4, 4, 256) 0           conv3d_27[0][0]                  \n",
      "__________________________________________________________________________________________________\n",
      "conv3d_28 (Conv3D)              (None, 2, 4, 4, 512) 3539456     max_pooling3d_8[0][0]            \n",
      "__________________________________________________________________________________________________\n",
      "conv3d_29 (Conv3D)              (None, 2, 4, 4, 512) 7078400     conv3d_28[0][0]                  \n",
      "__________________________________________________________________________________________________\n",
      "conv3d_transpose_5 (Conv3DTrans (None, 4, 8, 8, 256) 1048832     conv3d_29[0][0]                  \n",
      "__________________________________________________________________________________________________\n",
      "concatenate_5 (Concatenate)     (None, 4, 8, 8, 512) 0           conv3d_transpose_5[0][0]         \n",
      "                                                                 conv3d_27[0][0]                  \n",
      "__________________________________________________________________________________________________\n",
      "conv3d_30 (Conv3D)              (None, 4, 8, 8, 256) 3539200     concatenate_5[0][0]              \n",
      "__________________________________________________________________________________________________\n",
      "conv3d_31 (Conv3D)              (None, 4, 8, 8, 256) 1769728     conv3d_30[0][0]                  \n",
      "__________________________________________________________________________________________________\n",
      "conv3d_transpose_6 (Conv3DTrans (None, 8, 16, 16, 12 262272      conv3d_31[0][0]                  \n",
      "__________________________________________________________________________________________________\n",
      "concatenate_6 (Concatenate)     (None, 8, 16, 16, 25 0           conv3d_transpose_6[0][0]         \n",
      "                                                                 conv3d_25[0][0]                  \n",
      "__________________________________________________________________________________________________\n",
      "conv3d_32 (Conv3D)              (None, 8, 16, 16, 12 884864      concatenate_6[0][0]              \n",
      "__________________________________________________________________________________________________\n",
      "conv3d_33 (Conv3D)              (None, 8, 16, 16, 12 442496      conv3d_32[0][0]                  \n",
      "__________________________________________________________________________________________________\n",
      "conv3d_transpose_7 (Conv3DTrans (None, 16, 32, 32, 6 65600       conv3d_33[0][0]                  \n",
      "__________________________________________________________________________________________________\n",
      "concatenate_7 (Concatenate)     (None, 16, 32, 32, 1 0           conv3d_transpose_7[0][0]         \n",
      "                                                                 conv3d_23[0][0]                  \n",
      "__________________________________________________________________________________________________\n",
      "conv3d_34 (Conv3D)              (None, 16, 32, 32, 6 221248      concatenate_7[0][0]              \n",
      "__________________________________________________________________________________________________\n",
      "conv3d_35 (Conv3D)              (None, 16, 32, 32, 6 110656      conv3d_34[0][0]                  \n",
      "__________________________________________________________________________________________________\n",
      "conv3d_transpose_8 (Conv3DTrans (None, 32, 64, 64, 3 16416       conv3d_35[0][0]                  \n",
      "__________________________________________________________________________________________________\n",
      "concatenate_8 (Concatenate)     (None, 32, 64, 64, 6 0           conv3d_transpose_8[0][0]         \n",
      "                                                                 conv3d_21[0][0]                  \n",
      "__________________________________________________________________________________________________\n",
      "conv3d_36 (Conv3D)              (None, 32, 64, 64, 3 55328       concatenate_8[0][0]              \n",
      "__________________________________________________________________________________________________\n",
      "conv3d_37 (Conv3D)              (None, 32, 64, 64, 3 27680       conv3d_36[0][0]                  \n",
      "__________________________________________________________________________________________________\n",
      "conv3d_38 (Conv3D)              (None, 32, 64, 64, 1 33          conv3d_37[0][0]                  \n",
      "==================================================================================================\n",
      "Total params: 22,575,329\n",
      "Trainable params: 22,575,329\n",
      "Non-trainable params: 0\n",
      "__________________________________________________________________________________________________\n",
      "------------------------------\n",
      "Predicting masks on test data...\n",
      "------------------------------\n",
      "4/4 [==============================] - 0s 117ms/step\n",
      "------------------------------\n",
      "Saving predicted masks to files...\n",
      "------------------------------\n",
      "------------------------------\n",
      "Prediction finished\n",
      "------------------------------\n"
     ]
    }
   ],
   "source": [
    "predict()"
   ]
  },
  {
   "cell_type": "code",
   "execution_count": 12,
   "metadata": {},
   "outputs": [],
   "source": [
    "a = np.load('a.npz')['arr_0']\n",
    "    \n",
    "a = np.transpose(a)\n",
    "\n",
    "a = deform(a, img_depth/a.shape[0], axis=0)\n",
    "a = deform(a, img_rows/a.shape[1], axis=1)\n",
    "a = deform(a, img_cols/a.shape[2], axis=2)"
   ]
  },
  {
   "cell_type": "code",
   "execution_count": 13,
   "metadata": {},
   "outputs": [],
   "source": [
    "b = np.load('b.npz')['arr_0']\n",
    "\n",
    "b = np.transpose(b)\n",
    "\n",
    "b = deform(b, img_depth/b.shape[0], axis=0)\n",
    "b = deform(b, img_rows/b.shape[1], axis=1)\n",
    "b = deform(b, img_cols/b.shape[2], axis=2)"
   ]
  },
  {
   "cell_type": "code",
   "execution_count": 14,
   "metadata": {},
   "outputs": [
    {
     "name": "stdout",
     "output_type": "stream",
     "text": [
      "(32, 64, 64) (32, 64, 64)\n"
     ]
    }
   ],
   "source": [
    "print(a.shape, b.shape)"
   ]
  },
  {
   "cell_type": "code",
   "execution_count": 15,
   "metadata": {},
   "outputs": [],
   "source": [
    "os.chdir('test_mask_npy')"
   ]
  },
  {
   "cell_type": "code",
   "execution_count": 16,
   "metadata": {},
   "outputs": [],
   "source": [
    "c = np.load('3D-Unet_mask.npy')"
   ]
  },
  {
   "cell_type": "code",
   "execution_count": 17,
   "metadata": {},
   "outputs": [
    {
     "data": {
      "text/plain": [
       "(32, 64, 64)"
      ]
     },
     "execution_count": 17,
     "metadata": {},
     "output_type": "execute_result"
    }
   ],
   "source": [
    "c = c[2,:,:,:,0]\n",
    "c.shape"
   ]
  },
  {
   "cell_type": "code",
   "execution_count": 31,
   "metadata": {},
   "outputs": [
    {
     "data": {
      "text/plain": [
       "<matplotlib.colorbar.Colorbar at 0x1b5bd2cd508>"
      ]
     },
     "execution_count": 31,
     "metadata": {},
     "output_type": "execute_result"
    },
    {
     "data": {
      "image/png": "[encoded data removed]",
      "text/plain": [
       "<Figure size 432x288 with 2 Axes>"
      ]
     },
     "metadata": {
      "needs_background": "light"
     },
     "output_type": "display_data"
    }
   ],
   "source": [
    "# input image\n",
    "plt.imshow(a[15,:,:])\n",
    "plt.colorbar()"
   ]
  },
  {
   "cell_type": "code",
   "execution_count": 30,
   "metadata": {},
   "outputs": [
    {
     "data": {
      "text/plain": [
       "<matplotlib.colorbar.Colorbar at 0x1b5bd218d48>"
      ]
     },
     "execution_count": 30,
     "metadata": {},
     "output_type": "execute_result"
    },
    {
     "data": {
      "image/png": "[encoded data removed]",
      "text/plain": [
       "<Figure size 432x288 with 2 Axes>"
      ]
     },
     "metadata": {
      "needs_background": "light"
     },
     "output_type": "display_data"
    }
   ],
   "source": [
    "# ground truth\n",
    "plt.imshow(b[15,:,:])\n",
    "plt.colorbar()"
   ]
  },
  {
   "cell_type": "code",
   "execution_count": 29,
   "metadata": {},
   "outputs": [
    {
     "data": {
      "text/plain": [
       "<matplotlib.colorbar.Colorbar at 0x1b5bd169e48>"
      ]
     },
     "execution_count": 29,
     "metadata": {},
     "output_type": "execute_result"
    },
    {
     "data": {
      "image/png": "[encoded data removed]",
      "text/plain": [
       "<Figure size 432x288 with 2 Axes>"
      ]
     },
     "metadata": {
      "needs_background": "light"
     },
     "output_type": "display_data"
    }
   ],
   "source": [
    "# output mask\n",
    "plt.imshow(c[15,:,:])\n",
    "plt.colorbar()"
   ]
  },
  {
   "cell_type": "code",
   "execution_count": null,
   "metadata": {},
   "outputs": [],
   "source": [
    "# wtf ?"
   ]
  }
 ],
 "metadata": {
  "kernelspec": {
   "display_name": "gputest",
   "language": "python",
   "name": "gputest"
  },
  "language_info": {
   "codemirror_mode": {
    "name": "ipython",
    "version": 3
   },
   "file_extension": ".py",
   "mimetype": "text/x-python",
   "name": "python",
   "nbconvert_exporter": "python",
   "pygments_lexer": "ipython3",
   "version": "3.7.5"
  }
 },
 "nbformat": 4,
 "nbformat_minor": 2
}
